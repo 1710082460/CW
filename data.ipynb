{
 "cells": [
  {
   "cell_type": "code",
   "execution_count": 1,
   "id": "dbe28cfc",
   "metadata": {},
   "outputs": [
    {
     "name": "stdout",
     "output_type": "stream",
     "text": [
      "列名： Index(['mc_run_id', 'grouping', 'mean_ghgs', 'mean_land', 'mean_watscar',\n",
      "       'mean_eut', 'mean_ghgs_ch4', 'mean_ghgs_n2o', 'mean_bio', 'mean_watuse',\n",
      "       'mean_acid', 'sd_ghgs', 'sd_land', 'sd_watscar', 'sd_eut',\n",
      "       'sd_ghgs_ch4', 'sd_ghgs_n2o', 'sd_bio', 'sd_watuse', 'sd_acid',\n",
      "       'n_participants', 'sex', 'diet_group', 'age_group'],\n",
      "      dtype='object')\n",
      "   mc_run_id           grouping  mean_ghgs  mean_land  mean_watscar  \\\n",
      "0          1  fish_female_20-29   5.421821   8.612772   14165.86240   \n",
      "1          1  fish_female_30-39   5.436673   8.680248   15222.77063   \n",
      "2          1  fish_female_40-49   5.289333   8.467723   15818.80068   \n",
      "3          1  fish_female_50-59   5.169020   8.219199   16962.06009   \n",
      "4          1  fish_female_60-69   5.380268   8.570718   18212.66232   \n",
      "\n",
      "    mean_eut  mean_ghgs_ch4  mean_ghgs_n2o    mean_bio  mean_watuse  ...  \\\n",
      "0  23.945372       1.164643       0.343663  476.270413   679.923479  ...   \n",
      "1  24.305262       1.154118       0.326868  467.923201   709.343785  ...   \n",
      "2  24.191105       1.108404       0.310324  438.659832   707.925368  ...   \n",
      "3  24.748154       1.032501       0.298130  395.787622   720.825105  ...   \n",
      "4  25.559430       1.098828       0.310735  421.176867   749.392826  ...   \n",
      "\n",
      "     sd_eut  sd_ghgs_ch4  sd_ghgs_n2o      sd_bio   sd_watuse   sd_acid  \\\n",
      "0  8.167013     0.632547     0.146827  283.883428  249.472563  8.231176   \n",
      "1  8.467858     0.601941     0.130298  270.247108  277.927269  7.947014   \n",
      "2  8.107006     0.572941     0.119872  252.415063  275.760515  8.103589   \n",
      "3  9.514028     0.509689     0.104731  209.566722  310.422445  8.712428   \n",
      "4  9.258068     0.609398     0.113401  264.599257  315.922570  8.616601   \n",
      "\n",
      "   n_participants     sex  diet_group  age_group  \n",
      "0            1329  female        fish      20-29  \n",
      "1            2024  female        fish      30-39  \n",
      "2            1689  female        fish      40-49  \n",
      "3             946  female        fish      50-59  \n",
      "4             492  female        fish      60-69  \n",
      "\n",
      "[5 rows x 24 columns]\n",
      "mc_run_id         0\n",
      "grouping          0\n",
      "mean_ghgs         0\n",
      "mean_land         0\n",
      "mean_watscar      0\n",
      "mean_eut          0\n",
      "mean_ghgs_ch4     0\n",
      "mean_ghgs_n2o     0\n",
      "mean_bio          0\n",
      "mean_watuse       0\n",
      "mean_acid         0\n",
      "sd_ghgs           0\n",
      "sd_land           0\n",
      "sd_watscar        0\n",
      "sd_eut            0\n",
      "sd_ghgs_ch4       0\n",
      "sd_ghgs_n2o       0\n",
      "sd_bio            0\n",
      "sd_watuse         0\n",
      "sd_acid           0\n",
      "n_participants    0\n",
      "sex               0\n",
      "diet_group        0\n",
      "age_group         0\n",
      "dtype: int64\n"
     ]
    }
   ],
   "source": [
    "import pandas as pd\n",
    "\n",
    "# 加载数据\n",
    "df = pd.read_csv('Results_21Mar2022.csv')\n",
    "\n",
    "# 规范化列名（去除空格，转换为小写）\n",
    "df.columns = df.columns.str.strip().str.lower()\n",
    "print(\"列名：\", df.columns)\n",
    "\n",
    "# 检查数据\n",
    "print(df.head())\n",
    "\n",
    "# 检查缺失值并处理\n",
    "print(df.isnull().sum())\n",
    "df.fillna(df.mean(numeric_only=True), inplace=True)\n",
    "df.dropna(inplace=True)\n",
    "\n",
    "# 定义数值列和标准差列\n",
    "numeric_cols = ['mean_ghgs', 'mean_land', 'mean_watscar', 'mean_eut', 'mean_ghgs_ch4', 'mean_ghgs_n2o', 'mean_bio', 'mean_watuse', 'mean_acid']\n",
    "sd_cols = ['sd_ghgs', 'sd_land', 'sd_watscar', 'sd_eut', 'sd_ghgs_ch4', 'sd_ghgs_n2o', 'sd_bio', 'sd_watuse', 'sd_acid']\n",
    "\n",
    "# 按饮食类型和年龄组分组（树形图、平行坐标图）\n",
    "df_diet_age = df.groupby(['diet_group', 'age_group'])[numeric_cols + sd_cols].mean().reset_index()\n",
    "\n",
    "# 按饮食类型和性别分组（雷达图）\n",
    "df_diet_gender = df.groupby(['diet_group', 'sex'])[numeric_cols + sd_cols].mean().reset_index()\n",
    "\n",
    "# 按饮食类型分组（散点图矩阵、矩阵图）\n",
    "df_diet = df.groupby('diet_group')[numeric_cols + sd_cols].mean().reset_index()\n",
    "\n",
    "# 标准化数据\n",
    "from sklearn.preprocessing import MinMaxScaler\n",
    "\n",
    "scaler = MinMaxScaler()\n",
    "df_diet_age[numeric_cols] = scaler.fit_transform(df_diet_age[numeric_cols])\n",
    "df_diet_gender[numeric_cols] = scaler.fit_transform(df_diet_gender[numeric_cols])\n",
    "df_diet[numeric_cols] = scaler.fit_transform(df_diet[numeric_cols])\n",
    "\n",
    "# 添加综合指标\n",
    "df_diet_age['composite_impact'] = df_diet_age[numeric_cols].mean(axis=1)\n",
    "df_diet_age['composite_sd'] = df_diet_age[sd_cols].mean(axis=1)\n",
    "\n",
    "df_diet_gender['composite_impact'] = df_diet_gender[numeric_cols].mean(axis=1)\n",
    "df_diet_gender['composite_sd'] = df_diet_gender[sd_cols].mean(axis=1)\n",
    "\n",
    "df_diet['composite_impact'] = df_diet[numeric_cols].mean(axis=1)\n",
    "df_diet['composite_sd'] = df_diet[sd_cols].mean(axis=1)"
   ]
  },
  {
   "cell_type": "code",
   "execution_count": 2,
   "id": "0cdf6723",
   "metadata": {},
   "outputs": [
    {
     "data": {
      "application/vnd.plotly.v1+json": {
       "config": {
        "plotlyServerURL": "https://plot.ly"
       },
       "data": [
        {
         "branchvalues": "total",
         "customdata": [
          [
           0.3483975812498679
          ],
          [
           0.33141707541009063
          ],
          [
           0.3185464364313566
          ],
          [
           0.3264496043834338
          ],
          [
           0.34664244104821873
          ],
          [
           0.3619932297545363
          ],
          [
           0.5367362299335304
          ],
          [
           0.5529666543403907
          ],
          [
           0.556442258152498
          ],
          [
           0.5598618098471313
          ],
          [
           0.5712435456848926
          ],
          [
           0.5869820184742677
          ],
          [
           0.9418058555183606
          ],
          [
           0.8892758118270697
          ],
          [
           0.9048063451557626
          ],
          [
           0.9257955916797643
          ],
          [
           0.9218208202125945
          ],
          [
           0.9780331784330638
          ],
          [
           0.3584592465347576
          ],
          [
           0.38156196883012927
          ],
          [
           0.37339865804561034
          ],
          [
           0.38727196354888405
          ],
          [
           0.39767318195713375
          ],
          [
           0.41394996656973615
          ],
          [
           0.012546857822597799
          ],
          [
           0.009595307639976229
          ],
          [
           0.024563136288522434
          ],
          [
           0.005507885256088144
          ],
          [
           0.03559267943154207
          ],
          [
           0.05030828840683937
          ],
          [
           0.23075700939614294
          ],
          [
           0.22922929933399278
          ],
          [
           0.2205759613622809
          ],
          [
           0.21606867058569623
          ],
          [
           0.22975444456197394
          ],
          [
           0.2533969561375096
          ],
          [
           0.6087052680890452
          ],
          [
           0.5867257675813338
          ],
          [
           0.591435018517811
          ],
          [
           0.6087710548410528
          ],
          [
           0.6027152103399991
          ],
          [
           0.6315477623483287
          ]
         ],
         "domain": {
          "x": [
           0,
           1
          ],
          "y": [
           0,
           1
          ]
         },
         "hovertemplate": "labels=%{label}<br>composite_impact_sum=%{value}<br>parent=%{parent}<br>id=%{id}<br>composite_impact=%{color}<extra></extra>",
         "ids": [
          "20-29/fish",
          "30-39/fish",
          "40-49/fish",
          "50-59/fish",
          "60-69/fish",
          "70-79/fish",
          "20-29/meat",
          "30-39/meat",
          "40-49/meat",
          "50-59/meat",
          "60-69/meat",
          "70-79/meat",
          "20-29/meat100",
          "30-39/meat100",
          "40-49/meat100",
          "50-59/meat100",
          "60-69/meat100",
          "70-79/meat100",
          "20-29/meat50",
          "30-39/meat50",
          "40-49/meat50",
          "50-59/meat50",
          "60-69/meat50",
          "70-79/meat50",
          "20-29/vegan",
          "30-39/vegan",
          "40-49/vegan",
          "50-59/vegan",
          "60-69/vegan",
          "70-79/vegan",
          "20-29/veggie",
          "30-39/veggie",
          "40-49/veggie",
          "50-59/veggie",
          "60-69/veggie",
          "70-79/veggie",
          "20-29",
          "30-39",
          "40-49",
          "50-59",
          "60-69",
          "70-79"
         ],
         "labels": [
          "fish",
          "fish",
          "fish",
          "fish",
          "fish",
          "fish",
          "meat",
          "meat",
          "meat",
          "meat",
          "meat",
          "meat",
          "meat100",
          "meat100",
          "meat100",
          "meat100",
          "meat100",
          "meat100",
          "meat50",
          "meat50",
          "meat50",
          "meat50",
          "meat50",
          "meat50",
          "vegan",
          "vegan",
          "vegan",
          "vegan",
          "vegan",
          "vegan",
          "veggie",
          "veggie",
          "veggie",
          "veggie",
          "veggie",
          "veggie",
          "20-29",
          "30-39",
          "40-49",
          "50-59",
          "60-69",
          "70-79"
         ],
         "marker": {
          "coloraxis": "coloraxis",
          "colors": [
           0.3483975812498679,
           0.33141707541009063,
           0.3185464364313566,
           0.3264496043834338,
           0.34664244104821873,
           0.3619932297545363,
           0.5367362299335304,
           0.5529666543403907,
           0.556442258152498,
           0.5598618098471313,
           0.5712435456848926,
           0.5869820184742677,
           0.9418058555183606,
           0.8892758118270697,
           0.9048063451557626,
           0.9257955916797643,
           0.9218208202125945,
           0.9780331784330638,
           0.3584592465347576,
           0.38156196883012927,
           0.37339865804561034,
           0.38727196354888405,
           0.39767318195713375,
           0.41394996656973615,
           0.012546857822597799,
           0.009595307639976229,
           0.024563136288522434,
           0.005507885256088144,
           0.03559267943154207,
           0.05030828840683937,
           0.23075700939614294,
           0.22922929933399278,
           0.2205759613622809,
           0.21606867058569623,
           0.22975444456197394,
           0.2533969561375096,
           0.6087052680890452,
           0.5867257675813338,
           0.591435018517811,
           0.6087710548410528,
           0.6027152103399991,
           0.6315477623483287
          ]
         },
         "name": "",
         "parents": [
          "20-29",
          "30-39",
          "40-49",
          "50-59",
          "60-69",
          "70-79",
          "20-29",
          "30-39",
          "40-49",
          "50-59",
          "60-69",
          "70-79",
          "20-29",
          "30-39",
          "40-49",
          "50-59",
          "60-69",
          "70-79",
          "20-29",
          "30-39",
          "40-49",
          "50-59",
          "60-69",
          "70-79",
          "20-29",
          "30-39",
          "40-49",
          "50-59",
          "60-69",
          "70-79",
          "20-29",
          "30-39",
          "40-49",
          "50-59",
          "60-69",
          "70-79",
          "",
          "",
          "",
          "",
          "",
          ""
         ],
         "type": "treemap",
         "values": [
          0.3483975812498679,
          0.33141707541009063,
          0.3185464364313566,
          0.3264496043834338,
          0.34664244104821873,
          0.36199322975453624,
          0.5367362299335304,
          0.5529666543403907,
          0.556442258152498,
          0.5598618098471313,
          0.5712435456848926,
          0.5869820184742677,
          0.9418058555183606,
          0.8892758118270697,
          0.9048063451557626,
          0.9257955916797643,
          0.9218208202125945,
          0.9780331784330638,
          0.3584592465347576,
          0.38156196883012927,
          0.3733986580456103,
          0.38727196354888405,
          0.39767318195713375,
          0.41394996656973615,
          0.012546857822597797,
          0.009595307639976229,
          0.024563136288522438,
          0.005507885256088144,
          0.03559267943154207,
          0.05030828840683937,
          0.23075700939614294,
          0.22922929933399278,
          0.22057596136228086,
          0.2160686705856962,
          0.22975444456197394,
          0.2533969561375096,
          2.4287027804552572,
          2.3940461173816496,
          2.3983327954360307,
          2.4209555253009976,
          2.5027271128963555,
          2.644663637775953
         ]
        }
       ],
       "layout": {
        "coloraxis": {
         "colorbar": {
          "title": {
           "text": "composite_impact"
          }
         },
         "colorscale": [
          [
           0,
           "rgb(165,0,38)"
          ],
          [
           0.1,
           "rgb(215,48,39)"
          ],
          [
           0.2,
           "rgb(244,109,67)"
          ],
          [
           0.3,
           "rgb(253,174,97)"
          ],
          [
           0.4,
           "rgb(254,224,139)"
          ],
          [
           0.5,
           "rgb(255,255,191)"
          ],
          [
           0.6,
           "rgb(217,239,139)"
          ],
          [
           0.7,
           "rgb(166,217,106)"
          ],
          [
           0.8,
           "rgb(102,189,99)"
          ],
          [
           0.9,
           "rgb(26,152,80)"
          ],
          [
           1,
           "rgb(0,104,55)"
          ]
         ]
        },
        "font": {
         "size": 12
        },
        "legend": {
         "tracegroupgap": 0
        },
        "margin": {
         "b": 50,
         "l": 50,
         "r": 50,
         "t": 80
        },
        "template": {
         "data": {
          "bar": [
           {
            "error_x": {
             "color": "#2a3f5f"
            },
            "error_y": {
             "color": "#2a3f5f"
            },
            "marker": {
             "line": {
              "color": "#E5ECF6",
              "width": 0.5
             },
             "pattern": {
              "fillmode": "overlay",
              "size": 10,
              "solidity": 0.2
             }
            },
            "type": "bar"
           }
          ],
          "barpolar": [
           {
            "marker": {
             "line": {
              "color": "#E5ECF6",
              "width": 0.5
             },
             "pattern": {
              "fillmode": "overlay",
              "size": 10,
              "solidity": 0.2
             }
            },
            "type": "barpolar"
           }
          ],
          "carpet": [
           {
            "aaxis": {
             "endlinecolor": "#2a3f5f",
             "gridcolor": "white",
             "linecolor": "white",
             "minorgridcolor": "white",
             "startlinecolor": "#2a3f5f"
            },
            "baxis": {
             "endlinecolor": "#2a3f5f",
             "gridcolor": "white",
             "linecolor": "white",
             "minorgridcolor": "white",
             "startlinecolor": "#2a3f5f"
            },
            "type": "carpet"
           }
          ],
          "choropleth": [
           {
            "colorbar": {
             "outlinewidth": 0,
             "ticks": ""
            },
            "type": "choropleth"
           }
          ],
          "contour": [
           {
            "colorbar": {
             "outlinewidth": 0,
             "ticks": ""
            },
            "colorscale": [
             [
              0,
              "#0d0887"
             ],
             [
              0.1111111111111111,
              "#46039f"
             ],
             [
              0.2222222222222222,
              "#7201a8"
             ],
             [
              0.3333333333333333,
              "#9c179e"
             ],
             [
              0.4444444444444444,
              "#bd3786"
             ],
             [
              0.5555555555555556,
              "#d8576b"
             ],
             [
              0.6666666666666666,
              "#ed7953"
             ],
             [
              0.7777777777777778,
              "#fb9f3a"
             ],
             [
              0.8888888888888888,
              "#fdca26"
             ],
             [
              1,
              "#f0f921"
             ]
            ],
            "type": "contour"
           }
          ],
          "contourcarpet": [
           {
            "colorbar": {
             "outlinewidth": 0,
             "ticks": ""
            },
            "type": "contourcarpet"
           }
          ],
          "heatmap": [
           {
            "colorbar": {
             "outlinewidth": 0,
             "ticks": ""
            },
            "colorscale": [
             [
              0,
              "#0d0887"
             ],
             [
              0.1111111111111111,
              "#46039f"
             ],
             [
              0.2222222222222222,
              "#7201a8"
             ],
             [
              0.3333333333333333,
              "#9c179e"
             ],
             [
              0.4444444444444444,
              "#bd3786"
             ],
             [
              0.5555555555555556,
              "#d8576b"
             ],
             [
              0.6666666666666666,
              "#ed7953"
             ],
             [
              0.7777777777777778,
              "#fb9f3a"
             ],
             [
              0.8888888888888888,
              "#fdca26"
             ],
             [
              1,
              "#f0f921"
             ]
            ],
            "type": "heatmap"
           }
          ],
          "heatmapgl": [
           {
            "colorbar": {
             "outlinewidth": 0,
             "ticks": ""
            },
            "colorscale": [
             [
              0,
              "#0d0887"
             ],
             [
              0.1111111111111111,
              "#46039f"
             ],
             [
              0.2222222222222222,
              "#7201a8"
             ],
             [
              0.3333333333333333,
              "#9c179e"
             ],
             [
              0.4444444444444444,
              "#bd3786"
             ],
             [
              0.5555555555555556,
              "#d8576b"
             ],
             [
              0.6666666666666666,
              "#ed7953"
             ],
             [
              0.7777777777777778,
              "#fb9f3a"
             ],
             [
              0.8888888888888888,
              "#fdca26"
             ],
             [
              1,
              "#f0f921"
             ]
            ],
            "type": "heatmapgl"
           }
          ],
          "histogram": [
           {
            "marker": {
             "pattern": {
              "fillmode": "overlay",
              "size": 10,
              "solidity": 0.2
             }
            },
            "type": "histogram"
           }
          ],
          "histogram2d": [
           {
            "colorbar": {
             "outlinewidth": 0,
             "ticks": ""
            },
            "colorscale": [
             [
              0,
              "#0d0887"
             ],
             [
              0.1111111111111111,
              "#46039f"
             ],
             [
              0.2222222222222222,
              "#7201a8"
             ],
             [
              0.3333333333333333,
              "#9c179e"
             ],
             [
              0.4444444444444444,
              "#bd3786"
             ],
             [
              0.5555555555555556,
              "#d8576b"
             ],
             [
              0.6666666666666666,
              "#ed7953"
             ],
             [
              0.7777777777777778,
              "#fb9f3a"
             ],
             [
              0.8888888888888888,
              "#fdca26"
             ],
             [
              1,
              "#f0f921"
             ]
            ],
            "type": "histogram2d"
           }
          ],
          "histogram2dcontour": [
           {
            "colorbar": {
             "outlinewidth": 0,
             "ticks": ""
            },
            "colorscale": [
             [
              0,
              "#0d0887"
             ],
             [
              0.1111111111111111,
              "#46039f"
             ],
             [
              0.2222222222222222,
              "#7201a8"
             ],
             [
              0.3333333333333333,
              "#9c179e"
             ],
             [
              0.4444444444444444,
              "#bd3786"
             ],
             [
              0.5555555555555556,
              "#d8576b"
             ],
             [
              0.6666666666666666,
              "#ed7953"
             ],
             [
              0.7777777777777778,
              "#fb9f3a"
             ],
             [
              0.8888888888888888,
              "#fdca26"
             ],
             [
              1,
              "#f0f921"
             ]
            ],
            "type": "histogram2dcontour"
           }
          ],
          "mesh3d": [
           {
            "colorbar": {
             "outlinewidth": 0,
             "ticks": ""
            },
            "type": "mesh3d"
           }
          ],
          "parcoords": [
           {
            "line": {
             "colorbar": {
              "outlinewidth": 0,
              "ticks": ""
             }
            },
            "type": "parcoords"
           }
          ],
          "pie": [
           {
            "automargin": true,
            "type": "pie"
           }
          ],
          "scatter": [
           {
            "fillpattern": {
             "fillmode": "overlay",
             "size": 10,
             "solidity": 0.2
            },
            "type": "scatter"
           }
          ],
          "scatter3d": [
           {
            "line": {
             "colorbar": {
              "outlinewidth": 0,
              "ticks": ""
             }
            },
            "marker": {
             "colorbar": {
              "outlinewidth": 0,
              "ticks": ""
             }
            },
            "type": "scatter3d"
           }
          ],
          "scattercarpet": [
           {
            "marker": {
             "colorbar": {
              "outlinewidth": 0,
              "ticks": ""
             }
            },
            "type": "scattercarpet"
           }
          ],
          "scattergeo": [
           {
            "marker": {
             "colorbar": {
              "outlinewidth": 0,
              "ticks": ""
             }
            },
            "type": "scattergeo"
           }
          ],
          "scattergl": [
           {
            "marker": {
             "colorbar": {
              "outlinewidth": 0,
              "ticks": ""
             }
            },
            "type": "scattergl"
           }
          ],
          "scattermapbox": [
           {
            "marker": {
             "colorbar": {
              "outlinewidth": 0,
              "ticks": ""
             }
            },
            "type": "scattermapbox"
           }
          ],
          "scatterpolar": [
           {
            "marker": {
             "colorbar": {
              "outlinewidth": 0,
              "ticks": ""
             }
            },
            "type": "scatterpolar"
           }
          ],
          "scatterpolargl": [
           {
            "marker": {
             "colorbar": {
              "outlinewidth": 0,
              "ticks": ""
             }
            },
            "type": "scatterpolargl"
           }
          ],
          "scatterternary": [
           {
            "marker": {
             "colorbar": {
              "outlinewidth": 0,
              "ticks": ""
             }
            },
            "type": "scatterternary"
           }
          ],
          "surface": [
           {
            "colorbar": {
             "outlinewidth": 0,
             "ticks": ""
            },
            "colorscale": [
             [
              0,
              "#0d0887"
             ],
             [
              0.1111111111111111,
              "#46039f"
             ],
             [
              0.2222222222222222,
              "#7201a8"
             ],
             [
              0.3333333333333333,
              "#9c179e"
             ],
             [
              0.4444444444444444,
              "#bd3786"
             ],
             [
              0.5555555555555556,
              "#d8576b"
             ],
             [
              0.6666666666666666,
              "#ed7953"
             ],
             [
              0.7777777777777778,
              "#fb9f3a"
             ],
             [
              0.8888888888888888,
              "#fdca26"
             ],
             [
              1,
              "#f0f921"
             ]
            ],
            "type": "surface"
           }
          ],
          "table": [
           {
            "cells": {
             "fill": {
              "color": "#EBF0F8"
             },
             "line": {
              "color": "white"
             }
            },
            "header": {
             "fill": {
              "color": "#C8D4E3"
             },
             "line": {
              "color": "white"
             }
            },
            "type": "table"
           }
          ]
         },
         "layout": {
          "annotationdefaults": {
           "arrowcolor": "#2a3f5f",
           "arrowhead": 0,
           "arrowwidth": 1
          },
          "autotypenumbers": "strict",
          "coloraxis": {
           "colorbar": {
            "outlinewidth": 0,
            "ticks": ""
           }
          },
          "colorscale": {
           "diverging": [
            [
             0,
             "#8e0152"
            ],
            [
             0.1,
             "#c51b7d"
            ],
            [
             0.2,
             "#de77ae"
            ],
            [
             0.3,
             "#f1b6da"
            ],
            [
             0.4,
             "#fde0ef"
            ],
            [
             0.5,
             "#f7f7f7"
            ],
            [
             0.6,
             "#e6f5d0"
            ],
            [
             0.7,
             "#b8e186"
            ],
            [
             0.8,
             "#7fbc41"
            ],
            [
             0.9,
             "#4d9221"
            ],
            [
             1,
             "#276419"
            ]
           ],
           "sequential": [
            [
             0,
             "#0d0887"
            ],
            [
             0.1111111111111111,
             "#46039f"
            ],
            [
             0.2222222222222222,
             "#7201a8"
            ],
            [
             0.3333333333333333,
             "#9c179e"
            ],
            [
             0.4444444444444444,
             "#bd3786"
            ],
            [
             0.5555555555555556,
             "#d8576b"
            ],
            [
             0.6666666666666666,
             "#ed7953"
            ],
            [
             0.7777777777777778,
             "#fb9f3a"
            ],
            [
             0.8888888888888888,
             "#fdca26"
            ],
            [
             1,
             "#f0f921"
            ]
           ],
           "sequentialminus": [
            [
             0,
             "#0d0887"
            ],
            [
             0.1111111111111111,
             "#46039f"
            ],
            [
             0.2222222222222222,
             "#7201a8"
            ],
            [
             0.3333333333333333,
             "#9c179e"
            ],
            [
             0.4444444444444444,
             "#bd3786"
            ],
            [
             0.5555555555555556,
             "#d8576b"
            ],
            [
             0.6666666666666666,
             "#ed7953"
            ],
            [
             0.7777777777777778,
             "#fb9f3a"
            ],
            [
             0.8888888888888888,
             "#fdca26"
            ],
            [
             1,
             "#f0f921"
            ]
           ]
          },
          "colorway": [
           "#636efa",
           "#EF553B",
           "#00cc96",
           "#ab63fa",
           "#FFA15A",
           "#19d3f3",
           "#FF6692",
           "#B6E880",
           "#FF97FF",
           "#FECB52"
          ],
          "font": {
           "color": "#2a3f5f"
          },
          "geo": {
           "bgcolor": "white",
           "lakecolor": "white",
           "landcolor": "#E5ECF6",
           "showlakes": true,
           "showland": true,
           "subunitcolor": "white"
          },
          "hoverlabel": {
           "align": "left"
          },
          "hovermode": "closest",
          "mapbox": {
           "style": "light"
          },
          "paper_bgcolor": "white",
          "plot_bgcolor": "#E5ECF6",
          "polar": {
           "angularaxis": {
            "gridcolor": "white",
            "linecolor": "white",
            "ticks": ""
           },
           "bgcolor": "#E5ECF6",
           "radialaxis": {
            "gridcolor": "white",
            "linecolor": "white",
            "ticks": ""
           }
          },
          "scene": {
           "xaxis": {
            "backgroundcolor": "#E5ECF6",
            "gridcolor": "white",
            "gridwidth": 2,
            "linecolor": "white",
            "showbackground": true,
            "ticks": "",
            "zerolinecolor": "white"
           },
           "yaxis": {
            "backgroundcolor": "#E5ECF6",
            "gridcolor": "white",
            "gridwidth": 2,
            "linecolor": "white",
            "showbackground": true,
            "ticks": "",
            "zerolinecolor": "white"
           },
           "zaxis": {
            "backgroundcolor": "#E5ECF6",
            "gridcolor": "white",
            "gridwidth": 2,
            "linecolor": "white",
            "showbackground": true,
            "ticks": "",
            "zerolinecolor": "white"
           }
          },
          "shapedefaults": {
           "line": {
            "color": "#2a3f5f"
           }
          },
          "ternary": {
           "aaxis": {
            "gridcolor": "white",
            "linecolor": "white",
            "ticks": ""
           },
           "baxis": {
            "gridcolor": "white",
            "linecolor": "white",
            "ticks": ""
           },
           "bgcolor": "#E5ECF6",
           "caxis": {
            "gridcolor": "white",
            "linecolor": "white",
            "ticks": ""
           }
          },
          "title": {
           "x": 0.05
          },
          "xaxis": {
           "automargin": true,
           "gridcolor": "white",
           "linecolor": "white",
           "ticks": "",
           "title": {
            "standoff": 15
           },
           "zerolinecolor": "white",
           "zerolinewidth": 2
          },
          "yaxis": {
           "automargin": true,
           "gridcolor": "white",
           "linecolor": "white",
           "ticks": "",
           "title": {
            "standoff": 15
           },
           "zerolinecolor": "white",
           "zerolinewidth": 2
          }
         }
        },
        "title": {
         "font": {
          "size": 20
         },
         "text": "Composite Environmental Impact by Age Group and Diet Type"
        }
       }
      }
     },
     "metadata": {},
     "output_type": "display_data"
    }
   ],
   "source": [
    "import plotly.express as px\n",
    "\n",
    "# 颜色方案\n",
    "diet_colors = {\n",
    "    'vegan': '#2ECC71',\n",
    "    'vegetarian': '#3498DB',\n",
    "    'fish': '#F1C40F',\n",
    "    'meat': '#E74C3C'\n",
    "}\n",
    "\n",
    "fig_treemap = px.treemap(\n",
    "    df_diet_age,\n",
    "    path=['age_group', 'diet_group'],\n",
    "    values='composite_impact',\n",
    "    color='composite_impact',\n",
    "    color_continuous_scale='RdYlGn',\n",
    "    title='Composite Environmental Impact by Age Group and Diet Type'\n",
    ")\n",
    "\n",
    "fig_treemap.update_layout(\n",
    "    title_font_size=20,\n",
    "    font=dict(size=12),\n",
    "    margin=dict(l=50, r=50, t=80, b=50)\n",
    ")\n",
    "\n",
    "fig_treemap.show()"
   ]
  },
  {
   "cell_type": "code",
   "execution_count": 35,
   "id": "ac848796",
   "metadata": {},
   "outputs": [
    {
     "data": {
      "application/vnd.plotly.v1+json": {
       "config": {
        "plotlyServerURL": "https://plot.ly"
       },
       "data": [
        {
         "customdata": [
          [
           "fish",
           "20-29"
          ]
         ],
         "diagonal": {
          "visible": false
         },
         "dimensions": [
          {
           "axis": {
            "matches": true
           },
           "label": "Ghgs",
           "values": [
            0.2872209660490214
           ]
          },
          {
           "axis": {
            "matches": true
           },
           "label": "Land",
           "values": [
            0.11634024620652977
           ]
          },
          {
           "axis": {
            "matches": true
           },
           "label": "Watscar",
           "values": [
            0.4409637789015175
           ]
          },
          {
           "axis": {
            "matches": true
           },
           "label": "Eut",
           "values": [
            0.3374840323036701
           ]
          },
          {
           "axis": {
            "matches": true
           },
           "label": "Composite_impact",
           "values": [
            0.2955022558651847
           ]
          }
         ],
         "hovertemplate": "diet_group=%{customdata[0]}<br>age_group=%{customdata[1]}<br>%{xaxis.title.text}=%{x}<br>%{yaxis.title.text}=%{y}<extra></extra>",
         "legendgroup": "fish, 20-29",
         "marker": {
          "color": "#636EFA",
          "opacity": 0.7,
          "size": 10,
          "symbol": "circle"
         },
         "name": "fish, 20-29",
         "showlegend": true,
         "showupperhalf": false,
         "type": "splom"
        },
        {
         "customdata": [
          [
           "fish",
           "30-39"
          ]
         ],
         "diagonal": {
          "visible": false
         },
         "dimensions": [
          {
           "axis": {
            "matches": true
           },
           "label": "Ghgs",
           "values": [
            0.2719803853413149
           ]
          },
          {
           "axis": {
            "matches": true
           },
           "label": "Land",
           "values": [
            0.10774949258126626
           ]
          },
          {
           "axis": {
            "matches": true
           },
           "label": "Watscar",
           "values": [
            0.4295656754792647
           ]
          },
          {
           "axis": {
            "matches": true
           },
           "label": "Eut",
           "values": [
            0.3147722013364348
           ]
          },
          {
           "axis": {
            "matches": true
           },
           "label": "Composite_impact",
           "values": [
            0.28101693868457017
           ]
          }
         ],
         "hovertemplate": "diet_group=%{customdata[0]}<br>age_group=%{customdata[1]}<br>%{xaxis.title.text}=%{x}<br>%{yaxis.title.text}=%{y}<extra></extra>",
         "legendgroup": "fish, 30-39",
         "marker": {
          "color": "#636EFA",
          "opacity": 0.7,
          "size": 10,
          "symbol": "diamond"
         },
         "name": "fish, 30-39",
         "showlegend": true,
         "showupperhalf": false,
         "type": "splom"
        },
        {
         "customdata": [
          [
           "fish",
           "40-49"
          ]
         ],
         "diagonal": {
          "visible": false
         },
         "dimensions": [
          {
           "axis": {
            "matches": true
           },
           "label": "Ghgs",
           "values": [
            0.26463886826958954
           ]
          },
          {
           "axis": {
            "matches": true
           },
           "label": "Land",
           "values": [
            0.10635450835145632
           ]
          },
          {
           "axis": {
            "matches": true
           },
           "label": "Watscar",
           "values": [
            0.3956586268744604
           ]
          },
          {
           "axis": {
            "matches": true
           },
           "label": "Eut",
           "values": [
            0.29957169704469055
           ]
          },
          {
           "axis": {
            "matches": true
           },
           "label": "Composite_impact",
           "values": [
            0.2665559251350492
           ]
          }
         ],
         "hovertemplate": "diet_group=%{customdata[0]}<br>age_group=%{customdata[1]}<br>%{xaxis.title.text}=%{x}<br>%{yaxis.title.text}=%{y}<extra></extra>",
         "legendgroup": "fish, 40-49",
         "marker": {
          "color": "#636EFA",
          "opacity": 0.7,
          "size": 10,
          "symbol": "square"
         },
         "name": "fish, 40-49",
         "showlegend": true,
         "showupperhalf": false,
         "type": "splom"
        },
        {
         "customdata": [
          [
           "fish",
           "50-59"
          ]
         ],
         "diagonal": {
          "visible": false
         },
         "dimensions": [
          {
           "axis": {
            "matches": true
           },
           "label": "Ghgs",
           "values": [
            0.2624437864110302
           ]
          },
          {
           "axis": {
            "matches": true
           },
           "label": "Land",
           "values": [
            0.10244832671707527
           ]
          },
          {
           "axis": {
            "matches": true
           },
           "label": "Watscar",
           "values": [
            0.44630249050588366
           ]
          },
          {
           "axis": {
            "matches": true
           },
           "label": "Eut",
           "values": [
            0.30043607577554954
           ]
          },
          {
           "axis": {
            "matches": true
           },
           "label": "Composite_impact",
           "values": [
            0.2779076698523847
           ]
          }
         ],
         "hovertemplate": "diet_group=%{customdata[0]}<br>age_group=%{customdata[1]}<br>%{xaxis.title.text}=%{x}<br>%{yaxis.title.text}=%{y}<extra></extra>",
         "legendgroup": "fish, 50-59",
         "marker": {
          "color": "#636EFA",
          "opacity": 0.7,
          "size": 10,
          "symbol": "x"
         },
         "name": "fish, 50-59",
         "showlegend": true,
         "showupperhalf": false,
         "type": "splom"
        },
        {
         "customdata": [
          [
           "fish",
           "60-69"
          ]
         ],
         "diagonal": {
          "visible": false
         },
         "dimensions": [
          {
           "axis": {
            "matches": true
           },
           "label": "Ghgs",
           "values": [
            0.27134418087846784
           ]
          },
          {
           "axis": {
            "matches": true
           },
           "label": "Land",
           "values": [
            0.1173544831981086
           ]
          },
          {
           "axis": {
            "matches": true
           },
           "label": "Watscar",
           "values": [
            0.49218283706081856
           ]
          },
          {
           "axis": {
            "matches": true
           },
           "label": "Eut",
           "values": [
            0.30902102681208055
           ]
          },
          {
           "axis": {
            "matches": true
           },
           "label": "Composite_impact",
           "values": [
            0.29747563198736887
           ]
          }
         ],
         "hovertemplate": "diet_group=%{customdata[0]}<br>age_group=%{customdata[1]}<br>%{xaxis.title.text}=%{x}<br>%{yaxis.title.text}=%{y}<extra></extra>",
         "legendgroup": "fish, 60-69",
         "marker": {
          "color": "#636EFA",
          "opacity": 0.7,
          "size": 10,
          "symbol": "cross"
         },
         "name": "fish, 60-69",
         "showlegend": true,
         "showupperhalf": false,
         "type": "splom"
        },
        {
         "customdata": [
          [
           "fish",
           "70-79"
          ]
         ],
         "diagonal": {
          "visible": false
         },
         "dimensions": [
          {
           "axis": {
            "matches": true
           },
           "label": "Ghgs",
           "values": [
            0.27327380568252885
           ]
          },
          {
           "axis": {
            "matches": true
           },
           "label": "Land",
           "values": [
            0.12533416926719898
           ]
          },
          {
           "axis": {
            "matches": true
           },
           "label": "Watscar",
           "values": [
            0.5549049695437969
           ]
          },
          {
           "axis": {
            "matches": true
           },
           "label": "Eut",
           "values": [
            0.3158508123752497
           ]
          },
          {
           "axis": {
            "matches": true
           },
           "label": "Composite_impact",
           "values": [
            0.3173409392171936
           ]
          }
         ],
         "hovertemplate": "diet_group=%{customdata[0]}<br>age_group=%{customdata[1]}<br>%{xaxis.title.text}=%{x}<br>%{yaxis.title.text}=%{y}<extra></extra>",
         "legendgroup": "fish, 70-79",
         "marker": {
          "color": "#636EFA",
          "opacity": 0.7,
          "size": 10,
          "symbol": "circle"
         },
         "name": "fish, 70-79",
         "showlegend": true,
         "showupperhalf": false,
         "type": "splom"
        },
        {
         "customdata": [
          [
           "meat",
           "20-29"
          ]
         ],
         "diagonal": {
          "visible": false
         },
         "dimensions": [
          {
           "axis": {
            "matches": true
           },
           "label": "Ghgs",
           "values": [
            0.48180056380445285
           ]
          },
          {
           "axis": {
            "matches": true
           },
           "label": "Land",
           "values": [
            0.33062133666445714
           ]
          },
          {
           "axis": {
            "matches": true
           },
           "label": "Watscar",
           "values": [
            0.5643985199754651
           ]
          },
          {
           "axis": {
            "matches": true
           },
           "label": "Eut",
           "values": [
            0.5639288192578483
           ]
          },
          {
           "axis": {
            "matches": true
           },
           "label": "Composite_impact",
           "values": [
            0.4851873099255558
           ]
          }
         ],
         "hovertemplate": "diet_group=%{customdata[0]}<br>age_group=%{customdata[1]}<br>%{xaxis.title.text}=%{x}<br>%{yaxis.title.text}=%{y}<extra></extra>",
         "legendgroup": "meat, 20-29",
         "marker": {
          "color": "#EF553B",
          "opacity": 0.7,
          "size": 10,
          "symbol": "circle"
         },
         "name": "meat, 20-29",
         "showlegend": true,
         "showupperhalf": false,
         "type": "splom"
        },
        {
         "customdata": [
          [
           "meat",
           "30-39"
          ]
         ],
         "diagonal": {
          "visible": false
         },
         "dimensions": [
          {
           "axis": {
            "matches": true
           },
           "label": "Ghgs",
           "values": [
            0.5041917631500126
           ]
          },
          {
           "axis": {
            "matches": true
           },
           "label": "Land",
           "values": [
            0.35685494842781584
           ]
          },
          {
           "axis": {
            "matches": true
           },
           "label": "Watscar",
           "values": [
            0.568808963920088
           ]
          },
          {
           "axis": {
            "matches": true
           },
           "label": "Eut",
           "values": [
            0.5691128401763933
           ]
          },
          {
           "axis": {
            "matches": true
           },
           "label": "Composite_impact",
           "values": [
            0.4997421289185774
           ]
          }
         ],
         "hovertemplate": "diet_group=%{customdata[0]}<br>age_group=%{customdata[1]}<br>%{xaxis.title.text}=%{x}<br>%{yaxis.title.text}=%{y}<extra></extra>",
         "legendgroup": "meat, 30-39",
         "marker": {
          "color": "#EF553B",
          "opacity": 0.7,
          "size": 10,
          "symbol": "diamond"
         },
         "name": "meat, 30-39",
         "showlegend": true,
         "showupperhalf": false,
         "type": "splom"
        },
        {
         "customdata": [
          [
           "meat",
           "40-49"
          ]
         ],
         "diagonal": {
          "visible": false
         },
         "dimensions": [
          {
           "axis": {
            "matches": true
           },
           "label": "Ghgs",
           "values": [
            0.5320478412057401
           ]
          },
          {
           "axis": {
            "matches": true
           },
           "label": "Land",
           "values": [
            0.4104222405489699
           ]
          },
          {
           "axis": {
            "matches": true
           },
           "label": "Watscar",
           "values": [
            0.49739864451994675
           ]
          },
          {
           "axis": {
            "matches": true
           },
           "label": "Eut",
           "values": [
            0.5670775077019038
           ]
          },
          {
           "axis": {
            "matches": true
           },
           "label": "Composite_impact",
           "values": [
            0.5017365584941401
           ]
          }
         ],
         "hovertemplate": "diet_group=%{customdata[0]}<br>age_group=%{customdata[1]}<br>%{xaxis.title.text}=%{x}<br>%{yaxis.title.text}=%{y}<extra></extra>",
         "legendgroup": "meat, 40-49",
         "marker": {
          "color": "#EF553B",
          "opacity": 0.7,
          "size": 10,
          "symbol": "square"
         },
         "name": "meat, 40-49",
         "showlegend": true,
         "showupperhalf": false,
         "type": "splom"
        },
        {
         "customdata": [
          [
           "meat",
           "50-59"
          ]
         ],
         "diagonal": {
          "visible": false
         },
         "dimensions": [
          {
           "axis": {
            "matches": true
           },
           "label": "Ghgs",
           "values": [
            0.5358663390179099
           ]
          },
          {
           "axis": {
            "matches": true
           },
           "label": "Land",
           "values": [
            0.41734278096584987
           ]
          },
          {
           "axis": {
            "matches": true
           },
           "label": "Watscar",
           "values": [
            0.5022193568746411
           ]
          },
          {
           "axis": {
            "matches": true
           },
           "label": "Eut",
           "values": [
            0.5562878494027701
           ]
          },
          {
           "axis": {
            "matches": true
           },
           "label": "Composite_impact",
           "values": [
            0.5029290815652927
           ]
          }
         ],
         "hovertemplate": "diet_group=%{customdata[0]}<br>age_group=%{customdata[1]}<br>%{xaxis.title.text}=%{x}<br>%{yaxis.title.text}=%{y}<extra></extra>",
         "legendgroup": "meat, 50-59",
         "marker": {
          "color": "#EF553B",
          "opacity": 0.7,
          "size": 10,
          "symbol": "x"
         },
         "name": "meat, 50-59",
         "showlegend": true,
         "showupperhalf": false,
         "type": "splom"
        },
        {
         "customdata": [
          [
           "meat",
           "60-69"
          ]
         ],
         "diagonal": {
          "visible": false
         },
         "dimensions": [
          {
           "axis": {
            "matches": true
           },
           "label": "Ghgs",
           "values": [
            0.5378467047515427
           ]
          },
          {
           "axis": {
            "matches": true
           },
           "label": "Land",
           "values": [
            0.4148328358496275
           ]
          },
          {
           "axis": {
            "matches": true
           },
           "label": "Watscar",
           "values": [
            0.5484971443675506
           ]
          },
          {
           "axis": {
            "matches": true
           },
           "label": "Eut",
           "values": [
            0.5590067639888929
           ]
          },
          {
           "axis": {
            "matches": true
           },
           "label": "Composite_impact",
           "values": [
            0.5150458622394034
           ]
          }
         ],
         "hovertemplate": "diet_group=%{customdata[0]}<br>age_group=%{customdata[1]}<br>%{xaxis.title.text}=%{x}<br>%{yaxis.title.text}=%{y}<extra></extra>",
         "legendgroup": "meat, 60-69",
         "marker": {
          "color": "#EF553B",
          "opacity": 0.7,
          "size": 10,
          "symbol": "cross"
         },
         "name": "meat, 60-69",
         "showlegend": true,
         "showupperhalf": false,
         "type": "splom"
        },
        {
         "customdata": [
          [
           "meat",
           "70-79"
          ]
         ],
         "diagonal": {
          "visible": false
         },
         "dimensions": [
          {
           "axis": {
            "matches": true
           },
           "label": "Ghgs",
           "values": [
            0.55127813998361
           ]
          },
          {
           "axis": {
            "matches": true
           },
           "label": "Land",
           "values": [
            0.44585800207963466
           ]
          },
          {
           "axis": {
            "matches": true
           },
           "label": "Watscar",
           "values": [
            0.5765937483445667
           ]
          },
          {
           "axis": {
            "matches": true
           },
           "label": "Eut",
           "values": [
            0.5658852859865493
           ]
          },
          {
           "axis": {
            "matches": true
           },
           "label": "Composite_impact",
           "values": [
            0.5349037940985901
           ]
          }
         ],
         "hovertemplate": "diet_group=%{customdata[0]}<br>age_group=%{customdata[1]}<br>%{xaxis.title.text}=%{x}<br>%{yaxis.title.text}=%{y}<extra></extra>",
         "legendgroup": "meat, 70-79",
         "marker": {
          "color": "#EF553B",
          "opacity": 0.7,
          "size": 10,
          "symbol": "circle"
         },
         "name": "meat, 70-79",
         "showlegend": true,
         "showupperhalf": false,
         "type": "splom"
        },
        {
         "customdata": [
          [
           "meat100",
           "20-29"
          ]
         ],
         "diagonal": {
          "visible": false
         },
         "dimensions": [
          {
           "axis": {
            "matches": true
           },
           "label": "Ghgs",
           "values": [
            0.8980307136864074
           ]
          },
          {
           "axis": {
            "matches": true
           },
           "label": "Land",
           "values": [
            0.8175167098953122
           ]
          },
          {
           "axis": {
            "matches": true
           },
           "label": "Watscar",
           "values": [
            1
           ]
          },
          {
           "axis": {
            "matches": true
           },
           "label": "Eut",
           "values": [
            1
           ]
          },
          {
           "axis": {
            "matches": true
           },
           "label": "Composite_impact",
           "values": [
            0.92888685589543
           ]
          }
         ],
         "hovertemplate": "diet_group=%{customdata[0]}<br>age_group=%{customdata[1]}<br>%{xaxis.title.text}=%{x}<br>%{yaxis.title.text}=%{y}<extra></extra>",
         "legendgroup": "meat100, 20-29",
         "marker": {
          "color": "#00CC96",
          "opacity": 0.7,
          "size": 10,
          "symbol": "circle"
         },
         "name": "meat100, 20-29",
         "showlegend": true,
         "showupperhalf": false,
         "type": "splom"
        },
        {
         "customdata": [
          [
           "meat100",
           "30-39"
          ]
         ],
         "diagonal": {
          "visible": false
         },
         "dimensions": [
          {
           "axis": {
            "matches": true
           },
           "label": "Ghgs",
           "values": [
            0.8618175727898447
           ]
          },
          {
           "axis": {
            "matches": true
           },
           "label": "Land",
           "values": [
            0.7957079165560752
           ]
          },
          {
           "axis": {
            "matches": true
           },
           "label": "Watscar",
           "values": [
            0.9395707102700426
           ]
          },
          {
           "axis": {
            "matches": true
           },
           "label": "Eut",
           "values": [
            0.8998028804371516
           ]
          },
          {
           "axis": {
            "matches": true
           },
           "label": "Composite_impact",
           "values": [
            0.8742247700132786
           ]
          }
         ],
         "hovertemplate": "diet_group=%{customdata[0]}<br>age_group=%{customdata[1]}<br>%{xaxis.title.text}=%{x}<br>%{yaxis.title.text}=%{y}<extra></extra>",
         "legendgroup": "meat100, 30-39",
         "marker": {
          "color": "#00CC96",
          "opacity": 0.7,
          "size": 10,
          "symbol": "diamond"
         },
         "name": "meat100, 30-39",
         "showlegend": true,
         "showupperhalf": false,
         "type": "splom"
        },
        {
         "customdata": [
          [
           "meat100",
           "40-49"
          ]
         ],
         "diagonal": {
          "visible": false
         },
         "dimensions": [
          {
           "axis": {
            "matches": true
           },
           "label": "Ghgs",
           "values": [
            0.9209326593549023
           ]
          },
          {
           "axis": {
            "matches": true
           },
           "label": "Land",
           "values": [
            0.8962894533300756
           ]
          },
          {
           "axis": {
            "matches": true
           },
           "label": "Watscar",
           "values": [
            0.8314233342110797
           ]
          },
          {
           "axis": {
            "matches": true
           },
           "label": "Eut",
           "values": [
            0.899578616402201
           ]
          },
          {
           "axis": {
            "matches": true
           },
           "label": "Composite_impact",
           "values": [
            0.8870560158245646
           ]
          }
         ],
         "hovertemplate": "diet_group=%{customdata[0]}<br>age_group=%{customdata[1]}<br>%{xaxis.title.text}=%{x}<br>%{yaxis.title.text}=%{y}<extra></extra>",
         "legendgroup": "meat100, 40-49",
         "marker": {
          "color": "#00CC96",
          "opacity": 0.7,
          "size": 10,
          "symbol": "square"
         },
         "name": "meat100, 40-49",
         "showlegend": true,
         "showupperhalf": false,
         "type": "splom"
        },
        {
         "customdata": [
          [
           "meat100",
           "50-59"
          ]
         ],
         "diagonal": {
          "visible": false
         },
         "dimensions": [
          {
           "axis": {
            "matches": true
           },
           "label": "Ghgs",
           "values": [
            0.9478178205925116
           ]
          },
          {
           "axis": {
            "matches": true
           },
           "label": "Land",
           "values": [
            0.9307670007020357
           ]
          },
          {
           "axis": {
            "matches": true
           },
           "label": "Watscar",
           "values": [
            0.8657500613959832
           ]
          },
          {
           "axis": {
            "matches": true
           },
           "label": "Eut",
           "values": [
            0.8932348134590602
           ]
          },
          {
           "axis": {
            "matches": true
           },
           "label": "Composite_impact",
           "values": [
            0.9093924240373977
           ]
          }
         ],
         "hovertemplate": "diet_group=%{customdata[0]}<br>age_group=%{customdata[1]}<br>%{xaxis.title.text}=%{x}<br>%{yaxis.title.text}=%{y}<extra></extra>",
         "legendgroup": "meat100, 50-59",
         "marker": {
          "color": "#00CC96",
          "opacity": 0.7,
          "size": 10,
          "symbol": "x"
         },
         "name": "meat100, 50-59",
         "showlegend": true,
         "showupperhalf": false,
         "type": "splom"
        },
        {
         "customdata": [
          [
           "meat100",
           "60-69"
          ]
         ],
         "diagonal": {
          "visible": false
         },
         "dimensions": [
          {
           "axis": {
            "matches": true
           },
           "label": "Ghgs",
           "values": [
            0.9331484608647129
           ]
          },
          {
           "axis": {
            "matches": true
           },
           "label": "Land",
           "values": [
            0.9152727094063986
           ]
          },
          {
           "axis": {
            "matches": true
           },
           "label": "Watscar",
           "values": [
            0.8965551222360553
           ]
          },
          {
           "axis": {
            "matches": true
           },
           "label": "Eut",
           "values": [
            0.8727093246759838
           ]
          },
          {
           "axis": {
            "matches": true
           },
           "label": "Composite_impact",
           "values": [
            0.9044214042957877
           ]
          }
         ],
         "hovertemplate": "diet_group=%{customdata[0]}<br>age_group=%{customdata[1]}<br>%{xaxis.title.text}=%{x}<br>%{yaxis.title.text}=%{y}<extra></extra>",
         "legendgroup": "meat100, 60-69",
         "marker": {
          "color": "#00CC96",
          "opacity": 0.7,
          "size": 10,
          "symbol": "cross"
         },
         "name": "meat100, 60-69",
         "showlegend": true,
         "showupperhalf": false,
         "type": "splom"
        },
        {
         "customdata": [
          [
           "meat100",
           "70-79"
          ]
         ],
         "diagonal": {
          "visible": false
         },
         "dimensions": [
          {
           "axis": {
            "matches": true
           },
           "label": "Ghgs",
           "values": [
            1
           ]
          },
          {
           "axis": {
            "matches": true
           },
           "label": "Land",
           "values": [
            1
           ]
          },
          {
           "axis": {
            "matches": true
           },
           "label": "Watscar",
           "values": [
            0.9523414714407372
           ]
          },
          {
           "axis": {
            "matches": true
           },
           "label": "Eut",
           "values": [
            0.9076136965669053
           ]
          },
          {
           "axis": {
            "matches": true
           },
           "label": "Composite_impact",
           "values": [
            0.9649887920019107
           ]
          }
         ],
         "hovertemplate": "diet_group=%{customdata[0]}<br>age_group=%{customdata[1]}<br>%{xaxis.title.text}=%{x}<br>%{yaxis.title.text}=%{y}<extra></extra>",
         "legendgroup": "meat100, 70-79",
         "marker": {
          "color": "#00CC96",
          "opacity": 0.7,
          "size": 10,
          "symbol": "circle"
         },
         "name": "meat100, 70-79",
         "showlegend": true,
         "showupperhalf": false,
         "type": "splom"
        },
        {
         "customdata": [
          [
           "meat50",
           "20-29"
          ]
         ],
         "diagonal": {
          "visible": false
         },
         "dimensions": [
          {
           "axis": {
            "matches": true
           },
           "label": "Ghgs",
           "values": [
            0.32190480566369756
           ]
          },
          {
           "axis": {
            "matches": true
           },
           "label": "Land",
           "values": [
            0.1837255851469396
           ]
          },
          {
           "axis": {
            "matches": true
           },
           "label": "Watscar",
           "values": [
            0.30045556331732026
           ]
          },
          {
           "axis": {
            "matches": true
           },
           "label": "Eut",
           "values": [
            0.3749838504962889
           ]
          },
          {
           "axis": {
            "matches": true
           },
           "label": "Composite_impact",
           "values": [
            0.29526745115606157
           ]
          }
         ],
         "hovertemplate": "diet_group=%{customdata[0]}<br>age_group=%{customdata[1]}<br>%{xaxis.title.text}=%{x}<br>%{yaxis.title.text}=%{y}<extra></extra>",
         "legendgroup": "meat50, 20-29",
         "marker": {
          "color": "#AB63FA",
          "opacity": 0.7,
          "size": 10,
          "symbol": "circle"
         },
         "name": "meat50, 20-29",
         "showlegend": true,
         "showupperhalf": false,
         "type": "splom"
        },
        {
         "customdata": [
          [
           "meat50",
           "30-39"
          ]
         ],
         "diagonal": {
          "visible": false
         },
         "dimensions": [
          {
           "axis": {
            "matches": true
           },
           "label": "Ghgs",
           "values": [
            0.33143939623442403
           ]
          },
          {
           "axis": {
            "matches": true
           },
           "label": "Land",
           "values": [
            0.1787327923633013
           ]
          },
          {
           "axis": {
            "matches": true
           },
           "label": "Watscar",
           "values": [
            0.409951104762615
           ]
          },
          {
           "axis": {
            "matches": true
           },
           "label": "Eut",
           "values": [
            0.3799337077759293
           ]
          },
          {
           "axis": {
            "matches": true
           },
           "label": "Composite_impact",
           "values": [
            0.3250142502840674
           ]
          }
         ],
         "hovertemplate": "diet_group=%{customdata[0]}<br>age_group=%{customdata[1]}<br>%{xaxis.title.text}=%{x}<br>%{yaxis.title.text}=%{y}<extra></extra>",
         "legendgroup": "meat50, 30-39",
         "marker": {
          "color": "#AB63FA",
          "opacity": 0.7,
          "size": 10,
          "symbol": "diamond"
         },
         "name": "meat50, 30-39",
         "showlegend": true,
         "showupperhalf": false,
         "type": "splom"
        },
        {
         "customdata": [
          [
           "meat50",
           "40-49"
          ]
         ],
         "diagonal": {
          "visible": false
         },
         "dimensions": [
          {
           "axis": {
            "matches": true
           },
           "label": "Ghgs",
           "values": [
            0.3362004155513834
           ]
          },
          {
           "axis": {
            "matches": true
           },
           "label": "Land",
           "values": [
            0.18850307136595812
           ]
          },
          {
           "axis": {
            "matches": true
           },
           "label": "Watscar",
           "values": [
            0.35503777339439546
           ]
          },
          {
           "axis": {
            "matches": true
           },
           "label": "Eut",
           "values": [
            0.3720890486734002
           ]
          },
          {
           "axis": {
            "matches": true
           },
           "label": "Composite_impact",
           "values": [
            0.31295757724628426
           ]
          }
         ],
         "hovertemplate": "diet_group=%{customdata[0]}<br>age_group=%{customdata[1]}<br>%{xaxis.title.text}=%{x}<br>%{yaxis.title.text}=%{y}<extra></extra>",
         "legendgroup": "meat50, 40-49",
         "marker": {
          "color": "#AB63FA",
          "opacity": 0.7,
          "size": 10,
          "symbol": "square"
         },
         "name": "meat50, 40-49",
         "showlegend": true,
         "showupperhalf": false,
         "type": "splom"
        },
        {
         "customdata": [
          [
           "meat50",
           "50-59"
          ]
         ],
         "diagonal": {
          "visible": false
         },
         "dimensions": [
          {
           "axis": {
            "matches": true
           },
           "label": "Ghgs",
           "values": [
            0.345211387794854
           ]
          },
          {
           "axis": {
            "matches": true
           },
           "label": "Land",
           "values": [
            0.1983066873250658
           ]
          },
          {
           "axis": {
            "matches": true
           },
           "label": "Watscar",
           "values": [
            0.36950411845668585
           ]
          },
          {
           "axis": {
            "matches": true
           },
           "label": "Eut",
           "values": [
            0.38019578162988044
           ]
          },
          {
           "axis": {
            "matches": true
           },
           "label": "Composite_impact",
           "values": [
            0.3233044938016215
           ]
          }
         ],
         "hovertemplate": "diet_group=%{customdata[0]}<br>age_group=%{customdata[1]}<br>%{xaxis.title.text}=%{x}<br>%{yaxis.title.text}=%{y}<extra></extra>",
         "legendgroup": "meat50, 50-59",
         "marker": {
          "color": "#AB63FA",
          "opacity": 0.7,
          "size": 10,
          "symbol": "x"
         },
         "name": "meat50, 50-59",
         "showlegend": true,
         "showupperhalf": false,
         "type": "splom"
        },
        {
         "customdata": [
          [
           "meat50",
           "60-69"
          ]
         ],
         "diagonal": {
          "visible": false
         },
         "dimensions": [
          {
           "axis": {
            "matches": true
           },
           "label": "Ghgs",
           "values": [
            0.35076984352913937
           ]
          },
          {
           "axis": {
            "matches": true
           },
           "label": "Land",
           "values": [
            0.20694489621747209
           ]
          },
          {
           "axis": {
            "matches": true
           },
           "label": "Watscar",
           "values": [
            0.3786456128877127
           ]
          },
          {
           "axis": {
            "matches": true
           },
           "label": "Eut",
           "values": [
            0.38756542286608897
           ]
          },
          {
           "axis": {
            "matches": true
           },
           "label": "Composite_impact",
           "values": [
            0.3309814438751033
           ]
          }
         ],
         "hovertemplate": "diet_group=%{customdata[0]}<br>age_group=%{customdata[1]}<br>%{xaxis.title.text}=%{x}<br>%{yaxis.title.text}=%{y}<extra></extra>",
         "legendgroup": "meat50, 60-69",
         "marker": {
          "color": "#AB63FA",
          "opacity": 0.7,
          "size": 10,
          "symbol": "cross"
         },
         "name": "meat50, 60-69",
         "showlegend": true,
         "showupperhalf": false,
         "type": "splom"
        },
        {
         "customdata": [
          [
           "meat50",
           "70-79"
          ]
         ],
         "diagonal": {
          "visible": false
         },
         "dimensions": [
          {
           "axis": {
            "matches": true
           },
           "label": "Ghgs",
           "values": [
            0.360078881569829
           ]
          },
          {
           "axis": {
            "matches": true
           },
           "label": "Land",
           "values": [
            0.2129502345096539
           ]
          },
          {
           "axis": {
            "matches": true
           },
           "label": "Watscar",
           "values": [
            0.427008953933667
           ]
          },
          {
           "axis": {
            "matches": true
           },
           "label": "Eut",
           "values": [
            0.39420469989034557
           ]
          },
          {
           "axis": {
            "matches": true
           },
           "label": "Composite_impact",
           "values": [
            0.34856069247587385
           ]
          }
         ],
         "hovertemplate": "diet_group=%{customdata[0]}<br>age_group=%{customdata[1]}<br>%{xaxis.title.text}=%{x}<br>%{yaxis.title.text}=%{y}<extra></extra>",
         "legendgroup": "meat50, 70-79",
         "marker": {
          "color": "#AB63FA",
          "opacity": 0.7,
          "size": 10,
          "symbol": "circle"
         },
         "name": "meat50, 70-79",
         "showlegend": true,
         "showupperhalf": false,
         "type": "splom"
        },
        {
         "customdata": [
          [
           "vegan",
           "20-29"
          ]
         ],
         "diagonal": {
          "visible": false
         },
         "dimensions": [
          {
           "axis": {
            "matches": true
           },
           "label": "Ghgs",
           "values": [
            0.009433324774310525
           ]
          },
          {
           "axis": {
            "matches": true
           },
           "label": "Land",
           "values": [
            0.00324636290660707
           ]
          },
          {
           "axis": {
            "matches": true
           },
           "label": "Watscar",
           "values": [
            0.013617336563377158
           ]
          },
          {
           "axis": {
            "matches": true
           },
           "label": "Eut",
           "values": [
            0.021251750248535373
           ]
          },
          {
           "axis": {
            "matches": true
           },
           "label": "Composite_impact",
           "values": [
            0.011887193623207531
           ]
          }
         ],
         "hovertemplate": "diet_group=%{customdata[0]}<br>age_group=%{customdata[1]}<br>%{xaxis.title.text}=%{x}<br>%{yaxis.title.text}=%{y}<extra></extra>",
         "legendgroup": "vegan, 20-29",
         "marker": {
          "color": "#FFA15A",
          "opacity": 0.7,
          "size": 10,
          "symbol": "circle"
         },
         "name": "vegan, 20-29",
         "showlegend": true,
         "showupperhalf": false,
         "type": "splom"
        },
        {
         "customdata": [
          [
           "vegan",
           "30-39"
          ]
         ],
         "diagonal": {
          "visible": false
         },
         "dimensions": [
          {
           "axis": {
            "matches": true
           },
           "label": "Ghgs",
           "values": [
            0.01006429796797259
           ]
          },
          {
           "axis": {
            "matches": true
           },
           "label": "Land",
           "values": [
            0
           ]
          },
          {
           "axis": {
            "matches": true
           },
           "label": "Watscar",
           "values": [
            0
           ]
          },
          {
           "axis": {
            "matches": true
           },
           "label": "Eut",
           "values": [
            0.010410224772757937
           ]
          },
          {
           "axis": {
            "matches": true
           },
           "label": "Composite_impact",
           "values": [
            0.005118630685182632
           ]
          }
         ],
         "hovertemplate": "diet_group=%{customdata[0]}<br>age_group=%{customdata[1]}<br>%{xaxis.title.text}=%{x}<br>%{yaxis.title.text}=%{y}<extra></extra>",
         "legendgroup": "vegan, 30-39",
         "marker": {
          "color": "#FFA15A",
          "opacity": 0.7,
          "size": 10,
          "symbol": "diamond"
         },
         "name": "vegan, 30-39",
         "showlegend": true,
         "showupperhalf": false,
         "type": "splom"
        },
        {
         "customdata": [
          [
           "vegan",
           "40-49"
          ]
         ],
         "diagonal": {
          "visible": false
         },
         "dimensions": [
          {
           "axis": {
            "matches": true
           },
           "label": "Ghgs",
           "values": [
            0.015967750587516483
           ]
          },
          {
           "axis": {
            "matches": true
           },
           "label": "Land",
           "values": [
            0.007420781236152502
           ]
          },
          {
           "axis": {
            "matches": true
           },
           "label": "Watscar",
           "values": [
            0.05627488940948222
           ]
          },
          {
           "axis": {
            "matches": true
           },
           "label": "Eut",
           "values": [
            0.019212197804231612
           ]
          },
          {
           "axis": {
            "matches": true
           },
           "label": "Composite_impact",
           "values": [
            0.024718904759345704
           ]
          }
         ],
         "hovertemplate": "diet_group=%{customdata[0]}<br>age_group=%{customdata[1]}<br>%{xaxis.title.text}=%{x}<br>%{yaxis.title.text}=%{y}<extra></extra>",
         "legendgroup": "vegan, 40-49",
         "marker": {
          "color": "#FFA15A",
          "opacity": 0.7,
          "size": 10,
          "symbol": "square"
         },
         "name": "vegan, 40-49",
         "showlegend": true,
         "showupperhalf": false,
         "type": "splom"
        },
        {
         "customdata": [
          [
           "vegan",
           "50-59"
          ]
         ],
         "diagonal": {
          "visible": false
         },
         "dimensions": [
          {
           "axis": {
            "matches": true
           },
           "label": "Ghgs",
           "values": [
            0
           ]
          },
          {
           "axis": {
            "matches": true
           },
           "label": "Land",
           "values": [
            0.00201209225659002
           ]
          },
          {
           "axis": {
            "matches": true
           },
           "label": "Watscar",
           "values": [
            0.019034253717282512
           ]
          },
          {
           "axis": {
            "matches": true
           },
           "label": "Eut",
           "values": [
            0
           ]
          },
          {
           "axis": {
            "matches": true
           },
           "label": "Composite_impact",
           "values": [
            0.005261586493468133
           ]
          }
         ],
         "hovertemplate": "diet_group=%{customdata[0]}<br>age_group=%{customdata[1]}<br>%{xaxis.title.text}=%{x}<br>%{yaxis.title.text}=%{y}<extra></extra>",
         "legendgroup": "vegan, 50-59",
         "marker": {
          "color": "#FFA15A",
          "opacity": 0.7,
          "size": 10,
          "symbol": "x"
         },
         "name": "vegan, 50-59",
         "showlegend": true,
         "showupperhalf": false,
         "type": "splom"
        },
        {
         "customdata": [
          [
           "vegan",
           "60-69"
          ]
         ],
         "diagonal": {
          "visible": false
         },
         "dimensions": [
          {
           "axis": {
            "matches": true
           },
           "label": "Ghgs",
           "values": [
            0.0008027907974131887
           ]
          },
          {
           "axis": {
            "matches": true
           },
           "label": "Land",
           "values": [
            0.012483846452397668
           ]
          },
          {
           "axis": {
            "matches": true
           },
           "label": "Watscar",
           "values": [
            0.20799709195439342
           ]
          },
          {
           "axis": {
            "matches": true
           },
           "label": "Eut",
           "values": [
            0.0009906250098669633
           ]
          },
          {
           "axis": {
            "matches": true
           },
           "label": "Composite_impact",
           "values": [
            0.05556858855351781
           ]
          }
         ],
         "hovertemplate": "diet_group=%{customdata[0]}<br>age_group=%{customdata[1]}<br>%{xaxis.title.text}=%{x}<br>%{yaxis.title.text}=%{y}<extra></extra>",
         "legendgroup": "vegan, 60-69",
         "marker": {
          "color": "#FFA15A",
          "opacity": 0.7,
          "size": 10,
          "symbol": "cross"
         },
         "name": "vegan, 60-69",
         "showlegend": true,
         "showupperhalf": false,
         "type": "splom"
        },
        {
         "customdata": [
          [
           "vegan",
           "70-79"
          ]
         ],
         "diagonal": {
          "visible": false
         },
         "dimensions": [
          {
           "axis": {
            "matches": true
           },
           "label": "Ghgs",
           "values": [
            0.01991858412188441
           ]
          },
          {
           "axis": {
            "matches": true
           },
           "label": "Land",
           "values": [
            0.011464827310418646
           ]
          },
          {
           "axis": {
            "matches": true
           },
           "label": "Watscar",
           "values": [
            0.20703377094813824
           ]
          },
          {
           "axis": {
            "matches": true
           },
           "label": "Eut",
           "values": [
            0.026436274853503416
           ]
          },
          {
           "axis": {
            "matches": true
           },
           "label": "Composite_impact",
           "values": [
            0.06621336430848618
           ]
          }
         ],
         "hovertemplate": "diet_group=%{customdata[0]}<br>age_group=%{customdata[1]}<br>%{xaxis.title.text}=%{x}<br>%{yaxis.title.text}=%{y}<extra></extra>",
         "legendgroup": "vegan, 70-79",
         "marker": {
          "color": "#FFA15A",
          "opacity": 0.7,
          "size": 10,
          "symbol": "circle"
         },
         "name": "vegan, 70-79",
         "showlegend": true,
         "showupperhalf": false,
         "type": "splom"
        },
        {
         "customdata": [
          [
           "veggie",
           "20-29"
          ]
         ],
         "diagonal": {
          "visible": false
         },
         "dimensions": [
          {
           "axis": {
            "matches": true
           },
           "label": "Ghgs",
           "values": [
            0.21731308578929853
           ]
          },
          {
           "axis": {
            "matches": true
           },
           "label": "Land",
           "values": [
            0.09905010913992468
           ]
          },
          {
           "axis": {
            "matches": true
           },
           "label": "Watscar",
           "values": [
            0.15690065009874177
           ]
          },
          {
           "axis": {
            "matches": true
           },
           "label": "Eut",
           "values": [
            0.21629925428711594
           ]
          },
          {
           "axis": {
            "matches": true
           },
           "label": "Composite_impact",
           "values": [
            0.17239077482877024
           ]
          }
         ],
         "hovertemplate": "diet_group=%{customdata[0]}<br>age_group=%{customdata[1]}<br>%{xaxis.title.text}=%{x}<br>%{yaxis.title.text}=%{y}<extra></extra>",
         "legendgroup": "veggie, 20-29",
         "marker": {
          "color": "#19D3F3",
          "opacity": 0.7,
          "size": 10,
          "symbol": "circle"
         },
         "name": "veggie, 20-29",
         "showlegend": true,
         "showupperhalf": false,
         "type": "splom"
        },
        {
         "customdata": [
          [
           "veggie",
           "30-39"
          ]
         ],
         "diagonal": {
          "visible": false
         },
         "dimensions": [
          {
           "axis": {
            "matches": true
           },
           "label": "Ghgs",
           "values": [
            0.21500950960695264
           ]
          },
          {
           "axis": {
            "matches": true
           },
           "label": "Land",
           "values": [
            0.09774748455785587
           ]
          },
          {
           "axis": {
            "matches": true
           },
           "label": "Watscar",
           "values": [
            0.16788644475149628
           ]
          },
          {
           "axis": {
            "matches": true
           },
           "label": "Eut",
           "values": [
            0.2095658891799438
           ]
          },
          {
           "axis": {
            "matches": true
           },
           "label": "Composite_impact",
           "values": [
            0.17255233202406214
           ]
          }
         ],
         "hovertemplate": "diet_group=%{customdata[0]}<br>age_group=%{customdata[1]}<br>%{xaxis.title.text}=%{x}<br>%{yaxis.title.text}=%{y}<extra></extra>",
         "legendgroup": "veggie, 30-39",
         "marker": {
          "color": "#19D3F3",
          "opacity": 0.7,
          "size": 10,
          "symbol": "diamond"
         },
         "name": "veggie, 30-39",
         "showlegend": true,
         "showupperhalf": false,
         "type": "splom"
        },
        {
         "customdata": [
          [
           "veggie",
           "40-49"
          ]
         ],
         "diagonal": {
          "visible": false
         },
         "dimensions": [
          {
           "axis": {
            "matches": true
           },
           "label": "Ghgs",
           "values": [
            0.20571444518002585
           ]
          },
          {
           "axis": {
            "matches": true
           },
           "label": "Land",
           "values": [
            0.09491464331768878
           ]
          },
          {
           "axis": {
            "matches": true
           },
           "label": "Watscar",
           "values": [
            0.17906141493219052
           ]
          },
          {
           "axis": {
            "matches": true
           },
           "label": "Eut",
           "values": [
            0.19856498325017946
           ]
          },
          {
           "axis": {
            "matches": true
           },
           "label": "Composite_impact",
           "values": [
            0.16956387167002115
           ]
          }
         ],
         "hovertemplate": "diet_group=%{customdata[0]}<br>age_group=%{customdata[1]}<br>%{xaxis.title.text}=%{x}<br>%{yaxis.title.text}=%{y}<extra></extra>",
         "legendgroup": "veggie, 40-49",
         "marker": {
          "color": "#19D3F3",
          "opacity": 0.7,
          "size": 10,
          "symbol": "square"
         },
         "name": "veggie, 40-49",
         "showlegend": true,
         "showupperhalf": false,
         "type": "splom"
        },
        {
         "customdata": [
          [
           "veggie",
           "50-59"
          ]
         ],
         "diagonal": {
          "visible": false
         },
         "dimensions": [
          {
           "axis": {
            "matches": true
           },
           "label": "Ghgs",
           "values": [
            0.19679385429127066
           ]
          },
          {
           "axis": {
            "matches": true
           },
           "label": "Land",
           "values": [
            0.09272761579458938
           ]
          },
          {
           "axis": {
            "matches": true
           },
           "label": "Watscar",
           "values": [
            0.2046827716564963
           ]
          },
          {
           "axis": {
            "matches": true
           },
           "label": "Eut",
           "values": [
            0.18617610296114384
           ]
          },
          {
           "axis": {
            "matches": true
           },
           "label": "Composite_impact",
           "values": [
            0.17009508617587504
           ]
          }
         ],
         "hovertemplate": "diet_group=%{customdata[0]}<br>age_group=%{customdata[1]}<br>%{xaxis.title.text}=%{x}<br>%{yaxis.title.text}=%{y}<extra></extra>",
         "legendgroup": "veggie, 50-59",
         "marker": {
          "color": "#19D3F3",
          "opacity": 0.7,
          "size": 10,
          "symbol": "x"
         },
         "name": "veggie, 50-59",
         "showlegend": true,
         "showupperhalf": false,
         "type": "splom"
        },
        {
         "customdata": [
          [
           "veggie",
           "60-69"
          ]
         ],
         "diagonal": {
          "visible": false
         },
         "dimensions": [
          {
           "axis": {
            "matches": true
           },
           "label": "Ghgs",
           "values": [
            0.20157073075848447
           ]
          },
          {
           "axis": {
            "matches": true
           },
           "label": "Land",
           "values": [
            0.09893020915953205
           ]
          },
          {
           "axis": {
            "matches": true
           },
           "label": "Watscar",
           "values": [
            0.2524716489017951
           ]
          },
          {
           "axis": {
            "matches": true
           },
           "label": "Eut",
           "values": [
            0.18916822708356407
           ]
          },
          {
           "axis": {
            "matches": true
           },
           "label": "Composite_impact",
           "values": [
            0.18553520397584392
           ]
          }
         ],
         "hovertemplate": "diet_group=%{customdata[0]}<br>age_group=%{customdata[1]}<br>%{xaxis.title.text}=%{x}<br>%{yaxis.title.text}=%{y}<extra></extra>",
         "legendgroup": "veggie, 60-69",
         "marker": {
          "color": "#19D3F3",
          "opacity": 0.7,
          "size": 10,
          "symbol": "cross"
         },
         "name": "veggie, 60-69",
         "showlegend": true,
         "showupperhalf": false,
         "type": "splom"
        },
        {
         "customdata": [
          [
           "veggie",
           "70-79"
          ]
         ],
         "diagonal": {
          "visible": false
         },
         "dimensions": [
          {
           "axis": {
            "matches": true
           },
           "label": "Ghgs",
           "values": [
            0.21034592502460897
           ]
          },
          {
           "axis": {
            "matches": true
           },
           "label": "Land",
           "values": [
            0.10734746005568385
           ]
          },
          {
           "axis": {
            "matches": true
           },
           "label": "Watscar",
           "values": [
            0.3456956197549519
           ]
          },
          {
           "axis": {
            "matches": true
           },
           "label": "Eut",
           "values": [
            0.20047641482379797
           ]
          },
          {
           "axis": {
            "matches": true
           },
           "label": "Composite_impact",
           "values": [
            0.21596635491476066
           ]
          }
         ],
         "hovertemplate": "diet_group=%{customdata[0]}<br>age_group=%{customdata[1]}<br>%{xaxis.title.text}=%{x}<br>%{yaxis.title.text}=%{y}<extra></extra>",
         "legendgroup": "veggie, 70-79",
         "marker": {
          "color": "#19D3F3",
          "opacity": 0.7,
          "size": 10,
          "symbol": "circle"
         },
         "name": "veggie, 70-79",
         "showlegend": true,
         "showupperhalf": false,
         "type": "splom"
        }
       ],
       "layout": {
        "dragmode": "select",
        "font": {
         "size": 13
        },
        "height": 1000,
        "legend": {
         "title": {
          "text": "Diet Group / Age Group"
         },
         "tracegroupgap": 0,
         "x": 1.1,
         "y": 1
        },
        "paper_bgcolor": "white",
        "plot_bgcolor": "white",
        "template": {
         "data": {
          "bar": [
           {
            "error_x": {
             "color": "#2a3f5f"
            },
            "error_y": {
             "color": "#2a3f5f"
            },
            "marker": {
             "line": {
              "color": "#E5ECF6",
              "width": 0.5
             },
             "pattern": {
              "fillmode": "overlay",
              "size": 10,
              "solidity": 0.2
             }
            },
            "type": "bar"
           }
          ],
          "barpolar": [
           {
            "marker": {
             "line": {
              "color": "#E5ECF6",
              "width": 0.5
             },
             "pattern": {
              "fillmode": "overlay",
              "size": 10,
              "solidity": 0.2
             }
            },
            "type": "barpolar"
           }
          ],
          "carpet": [
           {
            "aaxis": {
             "endlinecolor": "#2a3f5f",
             "gridcolor": "white",
             "linecolor": "white",
             "minorgridcolor": "white",
             "startlinecolor": "#2a3f5f"
            },
            "baxis": {
             "endlinecolor": "#2a3f5f",
             "gridcolor": "white",
             "linecolor": "white",
             "minorgridcolor": "white",
             "startlinecolor": "#2a3f5f"
            },
            "type": "carpet"
           }
          ],
          "choropleth": [
           {
            "colorbar": {
             "outlinewidth": 0,
             "ticks": ""
            },
            "type": "choropleth"
           }
          ],
          "contour": [
           {
            "colorbar": {
             "outlinewidth": 0,
             "ticks": ""
            },
            "colorscale": [
             [
              0,
              "#0d0887"
             ],
             [
              0.1111111111111111,
              "#46039f"
             ],
             [
              0.2222222222222222,
              "#7201a8"
             ],
             [
              0.3333333333333333,
              "#9c179e"
             ],
             [
              0.4444444444444444,
              "#bd3786"
             ],
             [
              0.5555555555555556,
              "#d8576b"
             ],
             [
              0.6666666666666666,
              "#ed7953"
             ],
             [
              0.7777777777777778,
              "#fb9f3a"
             ],
             [
              0.8888888888888888,
              "#fdca26"
             ],
             [
              1,
              "#f0f921"
             ]
            ],
            "type": "contour"
           }
          ],
          "contourcarpet": [
           {
            "colorbar": {
             "outlinewidth": 0,
             "ticks": ""
            },
            "type": "contourcarpet"
           }
          ],
          "heatmap": [
           {
            "colorbar": {
             "outlinewidth": 0,
             "ticks": ""
            },
            "colorscale": [
             [
              0,
              "#0d0887"
             ],
             [
              0.1111111111111111,
              "#46039f"
             ],
             [
              0.2222222222222222,
              "#7201a8"
             ],
             [
              0.3333333333333333,
              "#9c179e"
             ],
             [
              0.4444444444444444,
              "#bd3786"
             ],
             [
              0.5555555555555556,
              "#d8576b"
             ],
             [
              0.6666666666666666,
              "#ed7953"
             ],
             [
              0.7777777777777778,
              "#fb9f3a"
             ],
             [
              0.8888888888888888,
              "#fdca26"
             ],
             [
              1,
              "#f0f921"
             ]
            ],
            "type": "heatmap"
           }
          ],
          "heatmapgl": [
           {
            "colorbar": {
             "outlinewidth": 0,
             "ticks": ""
            },
            "colorscale": [
             [
              0,
              "#0d0887"
             ],
             [
              0.1111111111111111,
              "#46039f"
             ],
             [
              0.2222222222222222,
              "#7201a8"
             ],
             [
              0.3333333333333333,
              "#9c179e"
             ],
             [
              0.4444444444444444,
              "#bd3786"
             ],
             [
              0.5555555555555556,
              "#d8576b"
             ],
             [
              0.6666666666666666,
              "#ed7953"
             ],
             [
              0.7777777777777778,
              "#fb9f3a"
             ],
             [
              0.8888888888888888,
              "#fdca26"
             ],
             [
              1,
              "#f0f921"
             ]
            ],
            "type": "heatmapgl"
           }
          ],
          "histogram": [
           {
            "marker": {
             "pattern": {
              "fillmode": "overlay",
              "size": 10,
              "solidity": 0.2
             }
            },
            "type": "histogram"
           }
          ],
          "histogram2d": [
           {
            "colorbar": {
             "outlinewidth": 0,
             "ticks": ""
            },
            "colorscale": [
             [
              0,
              "#0d0887"
             ],
             [
              0.1111111111111111,
              "#46039f"
             ],
             [
              0.2222222222222222,
              "#7201a8"
             ],
             [
              0.3333333333333333,
              "#9c179e"
             ],
             [
              0.4444444444444444,
              "#bd3786"
             ],
             [
              0.5555555555555556,
              "#d8576b"
             ],
             [
              0.6666666666666666,
              "#ed7953"
             ],
             [
              0.7777777777777778,
              "#fb9f3a"
             ],
             [
              0.8888888888888888,
              "#fdca26"
             ],
             [
              1,
              "#f0f921"
             ]
            ],
            "type": "histogram2d"
           }
          ],
          "histogram2dcontour": [
           {
            "colorbar": {
             "outlinewidth": 0,
             "ticks": ""
            },
            "colorscale": [
             [
              0,
              "#0d0887"
             ],
             [
              0.1111111111111111,
              "#46039f"
             ],
             [
              0.2222222222222222,
              "#7201a8"
             ],
             [
              0.3333333333333333,
              "#9c179e"
             ],
             [
              0.4444444444444444,
              "#bd3786"
             ],
             [
              0.5555555555555556,
              "#d8576b"
             ],
             [
              0.6666666666666666,
              "#ed7953"
             ],
             [
              0.7777777777777778,
              "#fb9f3a"
             ],
             [
              0.8888888888888888,
              "#fdca26"
             ],
             [
              1,
              "#f0f921"
             ]
            ],
            "type": "histogram2dcontour"
           }
          ],
          "mesh3d": [
           {
            "colorbar": {
             "outlinewidth": 0,
             "ticks": ""
            },
            "type": "mesh3d"
           }
          ],
          "parcoords": [
           {
            "line": {
             "colorbar": {
              "outlinewidth": 0,
              "ticks": ""
             }
            },
            "type": "parcoords"
           }
          ],
          "pie": [
           {
            "automargin": true,
            "type": "pie"
           }
          ],
          "scatter": [
           {
            "fillpattern": {
             "fillmode": "overlay",
             "size": 10,
             "solidity": 0.2
            },
            "type": "scatter"
           }
          ],
          "scatter3d": [
           {
            "line": {
             "colorbar": {
              "outlinewidth": 0,
              "ticks": ""
             }
            },
            "marker": {
             "colorbar": {
              "outlinewidth": 0,
              "ticks": ""
             }
            },
            "type": "scatter3d"
           }
          ],
          "scattercarpet": [
           {
            "marker": {
             "colorbar": {
              "outlinewidth": 0,
              "ticks": ""
             }
            },
            "type": "scattercarpet"
           }
          ],
          "scattergeo": [
           {
            "marker": {
             "colorbar": {
              "outlinewidth": 0,
              "ticks": ""
             }
            },
            "type": "scattergeo"
           }
          ],
          "scattergl": [
           {
            "marker": {
             "colorbar": {
              "outlinewidth": 0,
              "ticks": ""
             }
            },
            "type": "scattergl"
           }
          ],
          "scattermapbox": [
           {
            "marker": {
             "colorbar": {
              "outlinewidth": 0,
              "ticks": ""
             }
            },
            "type": "scattermapbox"
           }
          ],
          "scatterpolar": [
           {
            "marker": {
             "colorbar": {
              "outlinewidth": 0,
              "ticks": ""
             }
            },
            "type": "scatterpolar"
           }
          ],
          "scatterpolargl": [
           {
            "marker": {
             "colorbar": {
              "outlinewidth": 0,
              "ticks": ""
             }
            },
            "type": "scatterpolargl"
           }
          ],
          "scatterternary": [
           {
            "marker": {
             "colorbar": {
              "outlinewidth": 0,
              "ticks": ""
             }
            },
            "type": "scatterternary"
           }
          ],
          "surface": [
           {
            "colorbar": {
             "outlinewidth": 0,
             "ticks": ""
            },
            "colorscale": [
             [
              0,
              "#0d0887"
             ],
             [
              0.1111111111111111,
              "#46039f"
             ],
             [
              0.2222222222222222,
              "#7201a8"
             ],
             [
              0.3333333333333333,
              "#9c179e"
             ],
             [
              0.4444444444444444,
              "#bd3786"
             ],
             [
              0.5555555555555556,
              "#d8576b"
             ],
             [
              0.6666666666666666,
              "#ed7953"
             ],
             [
              0.7777777777777778,
              "#fb9f3a"
             ],
             [
              0.8888888888888888,
              "#fdca26"
             ],
             [
              1,
              "#f0f921"
             ]
            ],
            "type": "surface"
           }
          ],
          "table": [
           {
            "cells": {
             "fill": {
              "color": "#EBF0F8"
             },
             "line": {
              "color": "white"
             }
            },
            "header": {
             "fill": {
              "color": "#C8D4E3"
             },
             "line": {
              "color": "white"
             }
            },
            "type": "table"
           }
          ]
         },
         "layout": {
          "annotationdefaults": {
           "arrowcolor": "#2a3f5f",
           "arrowhead": 0,
           "arrowwidth": 1
          },
          "autotypenumbers": "strict",
          "coloraxis": {
           "colorbar": {
            "outlinewidth": 0,
            "ticks": ""
           }
          },
          "colorscale": {
           "diverging": [
            [
             0,
             "#8e0152"
            ],
            [
             0.1,
             "#c51b7d"
            ],
            [
             0.2,
             "#de77ae"
            ],
            [
             0.3,
             "#f1b6da"
            ],
            [
             0.4,
             "#fde0ef"
            ],
            [
             0.5,
             "#f7f7f7"
            ],
            [
             0.6,
             "#e6f5d0"
            ],
            [
             0.7,
             "#b8e186"
            ],
            [
             0.8,
             "#7fbc41"
            ],
            [
             0.9,
             "#4d9221"
            ],
            [
             1,
             "#276419"
            ]
           ],
           "sequential": [
            [
             0,
             "#0d0887"
            ],
            [
             0.1111111111111111,
             "#46039f"
            ],
            [
             0.2222222222222222,
             "#7201a8"
            ],
            [
             0.3333333333333333,
             "#9c179e"
            ],
            [
             0.4444444444444444,
             "#bd3786"
            ],
            [
             0.5555555555555556,
             "#d8576b"
            ],
            [
             0.6666666666666666,
             "#ed7953"
            ],
            [
             0.7777777777777778,
             "#fb9f3a"
            ],
            [
             0.8888888888888888,
             "#fdca26"
            ],
            [
             1,
             "#f0f921"
            ]
           ],
           "sequentialminus": [
            [
             0,
             "#0d0887"
            ],
            [
             0.1111111111111111,
             "#46039f"
            ],
            [
             0.2222222222222222,
             "#7201a8"
            ],
            [
             0.3333333333333333,
             "#9c179e"
            ],
            [
             0.4444444444444444,
             "#bd3786"
            ],
            [
             0.5555555555555556,
             "#d8576b"
            ],
            [
             0.6666666666666666,
             "#ed7953"
            ],
            [
             0.7777777777777778,
             "#fb9f3a"
            ],
            [
             0.8888888888888888,
             "#fdca26"
            ],
            [
             1,
             "#f0f921"
            ]
           ]
          },
          "colorway": [
           "#636efa",
           "#EF553B",
           "#00cc96",
           "#ab63fa",
           "#FFA15A",
           "#19d3f3",
           "#FF6692",
           "#B6E880",
           "#FF97FF",
           "#FECB52"
          ],
          "font": {
           "color": "#2a3f5f"
          },
          "geo": {
           "bgcolor": "white",
           "lakecolor": "white",
           "landcolor": "#E5ECF6",
           "showlakes": true,
           "showland": true,
           "subunitcolor": "white"
          },
          "hoverlabel": {
           "align": "left"
          },
          "hovermode": "closest",
          "mapbox": {
           "style": "light"
          },
          "paper_bgcolor": "white",
          "plot_bgcolor": "#E5ECF6",
          "polar": {
           "angularaxis": {
            "gridcolor": "white",
            "linecolor": "white",
            "ticks": ""
           },
           "bgcolor": "#E5ECF6",
           "radialaxis": {
            "gridcolor": "white",
            "linecolor": "white",
            "ticks": ""
           }
          },
          "scene": {
           "xaxis": {
            "backgroundcolor": "#E5ECF6",
            "gridcolor": "white",
            "gridwidth": 2,
            "linecolor": "white",
            "showbackground": true,
            "ticks": "",
            "zerolinecolor": "white"
           },
           "yaxis": {
            "backgroundcolor": "#E5ECF6",
            "gridcolor": "white",
            "gridwidth": 2,
            "linecolor": "white",
            "showbackground": true,
            "ticks": "",
            "zerolinecolor": "white"
           },
           "zaxis": {
            "backgroundcolor": "#E5ECF6",
            "gridcolor": "white",
            "gridwidth": 2,
            "linecolor": "white",
            "showbackground": true,
            "ticks": "",
            "zerolinecolor": "white"
           }
          },
          "shapedefaults": {
           "line": {
            "color": "#2a3f5f"
           }
          },
          "ternary": {
           "aaxis": {
            "gridcolor": "white",
            "linecolor": "white",
            "ticks": ""
           },
           "baxis": {
            "gridcolor": "white",
            "linecolor": "white",
            "ticks": ""
           },
           "bgcolor": "#E5ECF6",
           "caxis": {
            "gridcolor": "white",
            "linecolor": "white",
            "ticks": ""
           }
          },
          "title": {
           "x": 0.05
          },
          "xaxis": {
           "automargin": true,
           "gridcolor": "white",
           "linecolor": "white",
           "ticks": "",
           "title": {
            "standoff": 15
           },
           "zerolinecolor": "white",
           "zerolinewidth": 2
          },
          "yaxis": {
           "automargin": true,
           "gridcolor": "white",
           "linecolor": "white",
           "ticks": "",
           "title": {
            "standoff": 15
           },
           "zerolinecolor": "white",
           "zerolinewidth": 2
          }
         }
        },
        "title": {
         "font": {
          "size": 22
         },
         "text": "Environmental Impact Relationships by Diet and Age Group"
        },
        "width": 1000
       }
      }
     },
     "metadata": {},
     "output_type": "display_data"
    }
   ],
   "source": [
    "import pandas as pd\n",
    "import plotly.express as px\n",
    "from sklearn.preprocessing import MinMaxScaler\n",
    "\n",
    "# 加载数据\n",
    "df = pd.read_csv('Results_21Mar2022.csv')\n",
    "\n",
    "# 规范化列名\n",
    "df.columns = df.columns.str.strip().str.lower()\n",
    "\n",
    "# 处理缺失值\n",
    "df.fillna(df.mean(numeric_only=True), inplace=True)\n",
    "df.dropna(inplace=True)\n",
    "\n",
    "# 定义数值列（精简到关键指标以避免过于复杂）\n",
    "numeric_cols = ['mean_ghgs', 'mean_land', 'mean_watscar', 'mean_eut']\n",
    "\n",
    "# 按饮食类型和年龄组分组\n",
    "df_diet_age = df.groupby(['diet_group', 'age_group'])[numeric_cols].mean().reset_index()\n",
    "\n",
    "# 标准化数据（0-1范围）\n",
    "scaler = MinMaxScaler()\n",
    "df_diet_age[numeric_cols] = scaler.fit_transform(df_diet_age[numeric_cols])\n",
    "\n",
    "# 添加综合影响指标\n",
    "df_diet_age['composite_impact'] = df_diet_age[numeric_cols].mean(axis=1)\n",
    "\n",
    "# 创建散点图矩阵\n",
    "fig = px.scatter_matrix(\n",
    "    df_diet_age,\n",
    "    dimensions=numeric_cols + ['composite_impact'],  # 显示的指标\n",
    "    color='diet_group',  # 按饮食类型着色\n",
    "    symbol='age_group',  # 按年龄组区分形状\n",
    "    title='Environmental Impact Relationships by Diet and Age Group',\n",
    "    hover_data=['diet_group', 'age_group'],  # 悬停显示信息\n",
    "    color_discrete_sequence=px.colors.qualitative.Plotly,  # 鲜艳的颜色\n",
    "    labels={col: col.replace('mean_', '').capitalize() for col in numeric_cols + ['composite_impact']}\n",
    ")\n",
    "\n",
    "# 更新布局\n",
    "fig.update_traces(\n",
    "    diagonal_visible=False,  # 隐藏对角线（避免冗余）\n",
    "    showupperhalf=False,  # 只显示下三角，减少重复\n",
    "    marker=dict(size=10, opacity=0.7)\n",
    ")\n",
    "\n",
    "fig.update_layout(\n",
    "    title_font_size=22,\n",
    "    font=dict(size=13),\n",
    "    plot_bgcolor='white',\n",
    "    paper_bgcolor='white',\n",
    "    width=1000,\n",
    "    height=1000,\n",
    "    legend=dict(\n",
    "        title='Diet Group / Age Group',\n",
    "        x=1.1, y=1.0\n",
    "    )\n",
    ")\n",
    "\n",
    "# 保存为 HTML 文件以支持交互性\n",
    "fig.write_html(\"scatter_matrix.html\")\n",
    "\n",
    "# 显示图表\n",
    "fig.show()"
   ]
  },
  {
   "cell_type": "code",
   "execution_count": 20,
   "id": "4b43de15",
   "metadata": {},
   "outputs": [
    {
     "data": {
      "application/vnd.plotly.v1+json": {
       "config": {
        "plotlyServerURL": "https://plot.ly"
       },
       "data": [
        {
         "colorbar": {
          "title": {
           "text": "Normalized Impact"
          }
         },
         "colorscale": [
          [
           0,
           "#440154"
          ],
          [
           0.1111111111111111,
           "#482878"
          ],
          [
           0.2222222222222222,
           "#3e4989"
          ],
          [
           0.3333333333333333,
           "#31688e"
          ],
          [
           0.4444444444444444,
           "#26828e"
          ],
          [
           0.5555555555555556,
           "#1f9e89"
          ],
          [
           0.6666666666666666,
           "#35b779"
          ],
          [
           0.7777777777777778,
           "#6ece58"
          ],
          [
           0.8888888888888888,
           "#b5de2b"
          ],
          [
           1,
           "#fde725"
          ]
         ],
         "type": "heatmap",
         "x": [
          "ghgs",
          "land",
          "watscar",
          "eut",
          "ghgs_ch4",
          "ghgs_n2o",
          "bio",
          "watuse",
          "acid"
         ],
         "y": [
          "fish (female)",
          "fish (male)",
          "meat (female)",
          "meat (male)",
          "meat100 (female)",
          "meat100 (male)",
          "meat50 (female)",
          "meat50 (male)",
          "vegan (female)",
          "vegan (male)",
          "veggie (female)",
          "veggie (male)"
         ],
         "z": [
          [
           0.2607649665145416,
           0.10895173819687057,
           0.3972267551571478,
           0.2967632788807149,
           0.29870410829390187,
           0.17081682562427397,
           0.4191092636853255,
           0.6203291913270403,
           0.33030267029172955
          ],
          [
           0.2969824727495197,
           0.13002349624537354,
           0.5053532166423698,
           0.3390503390609417,
           0.3082720797452796,
           0.19960541717307162,
           0.45005309012882483,
           0.6920339616058584,
           0.3596643470548293
          ],
          [
           0.5256280773815848,
           0.41454146502182,
           0.5204250987731682,
           0.5561034603312554,
           0.5651680861976548,
           0.4736228824913766,
           0.6149939598086787,
           0.7706818435688474,
           0.5989570212016989
          ],
          [
           0.5641769732222228,
           0.44715739266663257,
           0.5656855617989467,
           0.6052818772450204,
           0.5907633568285535,
           0.5137917003774914,
           0.65494480234159,
           0.7828924305618199,
           0.6337226945037099
          ],
          [
           0.9408540585889713,
           0.952932888864526,
           0.9065493576573376,
           0.8922282113395452,
           0.9485110243174899,
           0.9178304011197,
           0.9405440649545946,
           0.9611045063872385,
           0.9334801662171508
          ],
          [
           1,
           1,
           1,
           0.9999999999999998,
           1,
           1,
           0.9999999999999998,
           1.0000000000000002,
           1
          ],
          [
           0.3360491304227561,
           0.19809659534810412,
           0.33390935497619845,
           0.37268145293534466,
           0.39293530115696956,
           0.2624410874518764,
           0.4631069741971306,
           0.617052313858103,
           0.41481895961878834
          ],
          [
           0.3676155524213357,
           0.2216443818612939,
           0.37753952616998365,
           0.4070325752739871,
           0.4110173255660515,
           0.29099754100709413,
           0.505485474457438,
           0.6352771840185569,
           0.44354732327139035
          ],
          [
           0,
           0,
           0,
           0,
           0.005277877018769805,
           0,
           0.0038007084759332788,
           0,
           0
          ],
          [
           0.0036683677057691155,
           0.004969818347447641,
           0.07186731772268451,
           0.007280309955468245,
           0,
           0.00254494670167027,
           0,
           0.02521988736464853,
           0.0043721345683936375
          ],
          [
           0.19810428917053996,
           0.0952706084321964,
           0.13987916158470126,
           0.18432428232575354,
           0.2674618121499857,
           0.12174407865495135,
           0.40866913497514595,
           0.20421702504488182,
           0.2666475665591508
          ],
          [
           0.22447462530323925,
           0.11262478663370853,
           0.22762615048445367,
           0.21497803492901152,
           0.2706886654989853,
           0.14593616711585983,
           0.4312626473495797,
           0.2615370091765543,
           0.2896552572065676
          ]
         ],
         "zmax": 1,
         "zmin": 0
        }
       ],
       "layout": {
        "height": 500,
        "template": {
         "data": {
          "bar": [
           {
            "error_x": {
             "color": "#2a3f5f"
            },
            "error_y": {
             "color": "#2a3f5f"
            },
            "marker": {
             "line": {
              "color": "#E5ECF6",
              "width": 0.5
             },
             "pattern": {
              "fillmode": "overlay",
              "size": 10,
              "solidity": 0.2
             }
            },
            "type": "bar"
           }
          ],
          "barpolar": [
           {
            "marker": {
             "line": {
              "color": "#E5ECF6",
              "width": 0.5
             },
             "pattern": {
              "fillmode": "overlay",
              "size": 10,
              "solidity": 0.2
             }
            },
            "type": "barpolar"
           }
          ],
          "carpet": [
           {
            "aaxis": {
             "endlinecolor": "#2a3f5f",
             "gridcolor": "white",
             "linecolor": "white",
             "minorgridcolor": "white",
             "startlinecolor": "#2a3f5f"
            },
            "baxis": {
             "endlinecolor": "#2a3f5f",
             "gridcolor": "white",
             "linecolor": "white",
             "minorgridcolor": "white",
             "startlinecolor": "#2a3f5f"
            },
            "type": "carpet"
           }
          ],
          "choropleth": [
           {
            "colorbar": {
             "outlinewidth": 0,
             "ticks": ""
            },
            "type": "choropleth"
           }
          ],
          "contour": [
           {
            "colorbar": {
             "outlinewidth": 0,
             "ticks": ""
            },
            "colorscale": [
             [
              0,
              "#0d0887"
             ],
             [
              0.1111111111111111,
              "#46039f"
             ],
             [
              0.2222222222222222,
              "#7201a8"
             ],
             [
              0.3333333333333333,
              "#9c179e"
             ],
             [
              0.4444444444444444,
              "#bd3786"
             ],
             [
              0.5555555555555556,
              "#d8576b"
             ],
             [
              0.6666666666666666,
              "#ed7953"
             ],
             [
              0.7777777777777778,
              "#fb9f3a"
             ],
             [
              0.8888888888888888,
              "#fdca26"
             ],
             [
              1,
              "#f0f921"
             ]
            ],
            "type": "contour"
           }
          ],
          "contourcarpet": [
           {
            "colorbar": {
             "outlinewidth": 0,
             "ticks": ""
            },
            "type": "contourcarpet"
           }
          ],
          "heatmap": [
           {
            "colorbar": {
             "outlinewidth": 0,
             "ticks": ""
            },
            "colorscale": [
             [
              0,
              "#0d0887"
             ],
             [
              0.1111111111111111,
              "#46039f"
             ],
             [
              0.2222222222222222,
              "#7201a8"
             ],
             [
              0.3333333333333333,
              "#9c179e"
             ],
             [
              0.4444444444444444,
              "#bd3786"
             ],
             [
              0.5555555555555556,
              "#d8576b"
             ],
             [
              0.6666666666666666,
              "#ed7953"
             ],
             [
              0.7777777777777778,
              "#fb9f3a"
             ],
             [
              0.8888888888888888,
              "#fdca26"
             ],
             [
              1,
              "#f0f921"
             ]
            ],
            "type": "heatmap"
           }
          ],
          "heatmapgl": [
           {
            "colorbar": {
             "outlinewidth": 0,
             "ticks": ""
            },
            "colorscale": [
             [
              0,
              "#0d0887"
             ],
             [
              0.1111111111111111,
              "#46039f"
             ],
             [
              0.2222222222222222,
              "#7201a8"
             ],
             [
              0.3333333333333333,
              "#9c179e"
             ],
             [
              0.4444444444444444,
              "#bd3786"
             ],
             [
              0.5555555555555556,
              "#d8576b"
             ],
             [
              0.6666666666666666,
              "#ed7953"
             ],
             [
              0.7777777777777778,
              "#fb9f3a"
             ],
             [
              0.8888888888888888,
              "#fdca26"
             ],
             [
              1,
              "#f0f921"
             ]
            ],
            "type": "heatmapgl"
           }
          ],
          "histogram": [
           {
            "marker": {
             "pattern": {
              "fillmode": "overlay",
              "size": 10,
              "solidity": 0.2
             }
            },
            "type": "histogram"
           }
          ],
          "histogram2d": [
           {
            "colorbar": {
             "outlinewidth": 0,
             "ticks": ""
            },
            "colorscale": [
             [
              0,
              "#0d0887"
             ],
             [
              0.1111111111111111,
              "#46039f"
             ],
             [
              0.2222222222222222,
              "#7201a8"
             ],
             [
              0.3333333333333333,
              "#9c179e"
             ],
             [
              0.4444444444444444,
              "#bd3786"
             ],
             [
              0.5555555555555556,
              "#d8576b"
             ],
             [
              0.6666666666666666,
              "#ed7953"
             ],
             [
              0.7777777777777778,
              "#fb9f3a"
             ],
             [
              0.8888888888888888,
              "#fdca26"
             ],
             [
              1,
              "#f0f921"
             ]
            ],
            "type": "histogram2d"
           }
          ],
          "histogram2dcontour": [
           {
            "colorbar": {
             "outlinewidth": 0,
             "ticks": ""
            },
            "colorscale": [
             [
              0,
              "#0d0887"
             ],
             [
              0.1111111111111111,
              "#46039f"
             ],
             [
              0.2222222222222222,
              "#7201a8"
             ],
             [
              0.3333333333333333,
              "#9c179e"
             ],
             [
              0.4444444444444444,
              "#bd3786"
             ],
             [
              0.5555555555555556,
              "#d8576b"
             ],
             [
              0.6666666666666666,
              "#ed7953"
             ],
             [
              0.7777777777777778,
              "#fb9f3a"
             ],
             [
              0.8888888888888888,
              "#fdca26"
             ],
             [
              1,
              "#f0f921"
             ]
            ],
            "type": "histogram2dcontour"
           }
          ],
          "mesh3d": [
           {
            "colorbar": {
             "outlinewidth": 0,
             "ticks": ""
            },
            "type": "mesh3d"
           }
          ],
          "parcoords": [
           {
            "line": {
             "colorbar": {
              "outlinewidth": 0,
              "ticks": ""
             }
            },
            "type": "parcoords"
           }
          ],
          "pie": [
           {
            "automargin": true,
            "type": "pie"
           }
          ],
          "scatter": [
           {
            "fillpattern": {
             "fillmode": "overlay",
             "size": 10,
             "solidity": 0.2
            },
            "type": "scatter"
           }
          ],
          "scatter3d": [
           {
            "line": {
             "colorbar": {
              "outlinewidth": 0,
              "ticks": ""
             }
            },
            "marker": {
             "colorbar": {
              "outlinewidth": 0,
              "ticks": ""
             }
            },
            "type": "scatter3d"
           }
          ],
          "scattercarpet": [
           {
            "marker": {
             "colorbar": {
              "outlinewidth": 0,
              "ticks": ""
             }
            },
            "type": "scattercarpet"
           }
          ],
          "scattergeo": [
           {
            "marker": {
             "colorbar": {
              "outlinewidth": 0,
              "ticks": ""
             }
            },
            "type": "scattergeo"
           }
          ],
          "scattergl": [
           {
            "marker": {
             "colorbar": {
              "outlinewidth": 0,
              "ticks": ""
             }
            },
            "type": "scattergl"
           }
          ],
          "scattermapbox": [
           {
            "marker": {
             "colorbar": {
              "outlinewidth": 0,
              "ticks": ""
             }
            },
            "type": "scattermapbox"
           }
          ],
          "scatterpolar": [
           {
            "marker": {
             "colorbar": {
              "outlinewidth": 0,
              "ticks": ""
             }
            },
            "type": "scatterpolar"
           }
          ],
          "scatterpolargl": [
           {
            "marker": {
             "colorbar": {
              "outlinewidth": 0,
              "ticks": ""
             }
            },
            "type": "scatterpolargl"
           }
          ],
          "scatterternary": [
           {
            "marker": {
             "colorbar": {
              "outlinewidth": 0,
              "ticks": ""
             }
            },
            "type": "scatterternary"
           }
          ],
          "surface": [
           {
            "colorbar": {
             "outlinewidth": 0,
             "ticks": ""
            },
            "colorscale": [
             [
              0,
              "#0d0887"
             ],
             [
              0.1111111111111111,
              "#46039f"
             ],
             [
              0.2222222222222222,
              "#7201a8"
             ],
             [
              0.3333333333333333,
              "#9c179e"
             ],
             [
              0.4444444444444444,
              "#bd3786"
             ],
             [
              0.5555555555555556,
              "#d8576b"
             ],
             [
              0.6666666666666666,
              "#ed7953"
             ],
             [
              0.7777777777777778,
              "#fb9f3a"
             ],
             [
              0.8888888888888888,
              "#fdca26"
             ],
             [
              1,
              "#f0f921"
             ]
            ],
            "type": "surface"
           }
          ],
          "table": [
           {
            "cells": {
             "fill": {
              "color": "#EBF0F8"
             },
             "line": {
              "color": "white"
             }
            },
            "header": {
             "fill": {
              "color": "#C8D4E3"
             },
             "line": {
              "color": "white"
             }
            },
            "type": "table"
           }
          ]
         },
         "layout": {
          "annotationdefaults": {
           "arrowcolor": "#2a3f5f",
           "arrowhead": 0,
           "arrowwidth": 1
          },
          "autotypenumbers": "strict",
          "coloraxis": {
           "colorbar": {
            "outlinewidth": 0,
            "ticks": ""
           }
          },
          "colorscale": {
           "diverging": [
            [
             0,
             "#8e0152"
            ],
            [
             0.1,
             "#c51b7d"
            ],
            [
             0.2,
             "#de77ae"
            ],
            [
             0.3,
             "#f1b6da"
            ],
            [
             0.4,
             "#fde0ef"
            ],
            [
             0.5,
             "#f7f7f7"
            ],
            [
             0.6,
             "#e6f5d0"
            ],
            [
             0.7,
             "#b8e186"
            ],
            [
             0.8,
             "#7fbc41"
            ],
            [
             0.9,
             "#4d9221"
            ],
            [
             1,
             "#276419"
            ]
           ],
           "sequential": [
            [
             0,
             "#0d0887"
            ],
            [
             0.1111111111111111,
             "#46039f"
            ],
            [
             0.2222222222222222,
             "#7201a8"
            ],
            [
             0.3333333333333333,
             "#9c179e"
            ],
            [
             0.4444444444444444,
             "#bd3786"
            ],
            [
             0.5555555555555556,
             "#d8576b"
            ],
            [
             0.6666666666666666,
             "#ed7953"
            ],
            [
             0.7777777777777778,
             "#fb9f3a"
            ],
            [
             0.8888888888888888,
             "#fdca26"
            ],
            [
             1,
             "#f0f921"
            ]
           ],
           "sequentialminus": [
            [
             0,
             "#0d0887"
            ],
            [
             0.1111111111111111,
             "#46039f"
            ],
            [
             0.2222222222222222,
             "#7201a8"
            ],
            [
             0.3333333333333333,
             "#9c179e"
            ],
            [
             0.4444444444444444,
             "#bd3786"
            ],
            [
             0.5555555555555556,
             "#d8576b"
            ],
            [
             0.6666666666666666,
             "#ed7953"
            ],
            [
             0.7777777777777778,
             "#fb9f3a"
            ],
            [
             0.8888888888888888,
             "#fdca26"
            ],
            [
             1,
             "#f0f921"
            ]
           ]
          },
          "colorway": [
           "#636efa",
           "#EF553B",
           "#00cc96",
           "#ab63fa",
           "#FFA15A",
           "#19d3f3",
           "#FF6692",
           "#B6E880",
           "#FF97FF",
           "#FECB52"
          ],
          "font": {
           "color": "#2a3f5f"
          },
          "geo": {
           "bgcolor": "white",
           "lakecolor": "white",
           "landcolor": "#E5ECF6",
           "showlakes": true,
           "showland": true,
           "subunitcolor": "white"
          },
          "hoverlabel": {
           "align": "left"
          },
          "hovermode": "closest",
          "mapbox": {
           "style": "light"
          },
          "paper_bgcolor": "white",
          "plot_bgcolor": "#E5ECF6",
          "polar": {
           "angularaxis": {
            "gridcolor": "white",
            "linecolor": "white",
            "ticks": ""
           },
           "bgcolor": "#E5ECF6",
           "radialaxis": {
            "gridcolor": "white",
            "linecolor": "white",
            "ticks": ""
           }
          },
          "scene": {
           "xaxis": {
            "backgroundcolor": "#E5ECF6",
            "gridcolor": "white",
            "gridwidth": 2,
            "linecolor": "white",
            "showbackground": true,
            "ticks": "",
            "zerolinecolor": "white"
           },
           "yaxis": {
            "backgroundcolor": "#E5ECF6",
            "gridcolor": "white",
            "gridwidth": 2,
            "linecolor": "white",
            "showbackground": true,
            "ticks": "",
            "zerolinecolor": "white"
           },
           "zaxis": {
            "backgroundcolor": "#E5ECF6",
            "gridcolor": "white",
            "gridwidth": 2,
            "linecolor": "white",
            "showbackground": true,
            "ticks": "",
            "zerolinecolor": "white"
           }
          },
          "shapedefaults": {
           "line": {
            "color": "#2a3f5f"
           }
          },
          "ternary": {
           "aaxis": {
            "gridcolor": "white",
            "linecolor": "white",
            "ticks": ""
           },
           "baxis": {
            "gridcolor": "white",
            "linecolor": "white",
            "ticks": ""
           },
           "bgcolor": "#E5ECF6",
           "caxis": {
            "gridcolor": "white",
            "linecolor": "white",
            "ticks": ""
           }
          },
          "title": {
           "x": 0.05
          },
          "xaxis": {
           "automargin": true,
           "gridcolor": "white",
           "linecolor": "white",
           "ticks": "",
           "title": {
            "standoff": 15
           },
           "zerolinecolor": "white",
           "zerolinewidth": 2
          },
          "yaxis": {
           "automargin": true,
           "gridcolor": "white",
           "linecolor": "white",
           "ticks": "",
           "title": {
            "standoff": 15
           },
           "zerolinecolor": "white",
           "zerolinewidth": 2
          }
         }
        },
        "title": {
         "text": "Environmental Impact Heatmap by Diet Type and Gender"
        },
        "width": 900,
        "xaxis": {
         "title": {
          "text": "Impact Category"
         }
        },
        "yaxis": {
         "title": {
          "text": "Diet + Gender"
         }
        }
       }
      }
     },
     "metadata": {},
     "output_type": "display_data"
    }
   ],
   "source": [
    "import plotly.graph_objects as go\n",
    "import plotly.io as pio\n",
    "\n",
    "# 🧱 准备数据\n",
    "heatmap_df = df_diet_gender.copy()\n",
    "heatmap_df['group'] = heatmap_df['diet_group'] + ' (' + heatmap_df['sex'] + ')'\n",
    "heatmap_df = heatmap_df.set_index('group')\n",
    "\n",
    "# 提取热力图矩阵\n",
    "z = heatmap_df[numeric_cols].values\n",
    "x = [col.replace('mean_', '') for col in numeric_cols]\n",
    "y = heatmap_df.index.tolist()\n",
    "\n",
    "# 🎨 创建热力图\n",
    "fig_heatmap = go.Figure(data=go.Heatmap(\n",
    "    z=z,\n",
    "    x=x,\n",
    "    y=y,\n",
    "    colorscale='Viridis',\n",
    "    colorbar=dict(title='Normalized Impact'),\n",
    "    zmin=0,\n",
    "    zmax=1\n",
    "))\n",
    "\n",
    "fig_heatmap.update_layout(\n",
    "    title='Environmental Impact Heatmap by Diet Type and Gender',\n",
    "    xaxis_title='Impact Category',\n",
    "    yaxis_title='Diet + Gender',\n",
    "    width=900,\n",
    "    height=500\n",
    ")\n",
    "\n",
    "# 显示图\n",
    "fig_heatmap.show()\n",
    "\n",
    "# 导出 HTML\n",
    "pio.write_html(fig_heatmap, file=\"heatmap_diet_gender.html\", auto_open=True)\n"
   ]
  }
 ],
 "metadata": {
  "kernelspec": {
   "display_name": "base",
   "language": "python",
   "name": "python3"
  },
  "language_info": {
   "codemirror_mode": {
    "name": "ipython",
    "version": 3
   },
   "file_extension": ".py",
   "mimetype": "text/x-python",
   "name": "python",
   "nbconvert_exporter": "python",
   "pygments_lexer": "ipython3",
   "version": "3.12.3"
  }
 },
 "nbformat": 4,
 "nbformat_minor": 5
}
